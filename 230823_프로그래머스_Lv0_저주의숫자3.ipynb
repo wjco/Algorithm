{
 "cells": [
  {
   "cell_type": "markdown",
   "id": "b5fd7078",
   "metadata": {},
   "source": [
    "# 저주의 숫자 3 (프로그래머스 Lv.0)\n",
    "- 코딩테스트 연습 > 코딩테스트 입문 > 저주의 숫자 3\n",
    "- https://school.programmers.co.kr/learn/courses/30/lessons/120871"
   ]
  },
  {
   "cell_type": "markdown",
   "id": "a1c6431c",
   "metadata": {},
   "source": [
    "## [문제]\n",
    "\n",
    "3x 마을 사람들은 3을 저주의 숫자라고 생각하기 때문에 3의 배수와 숫자 3을 사용하지 않습니다. 3x 마을 사람들의 숫자는 다음과 같습니다.\n",
    "\n",
    "|10진법|3x 마을에서 쓰는 숫자|10진법|3x 마을에서 쓰는 숫자|\n",
    "|:---:|:---:|:---:|:---:|\n",
    "|1|1|6|8|\n",
    "|2|2|7|10|\n",
    "|3|4|8|11|\n",
    "|4|5|9|14|\n",
    "|5|7|10|16|\n",
    "\n",
    "정수 ```n```이 매개변수로 주어질 때, ```n```을 3x 마을에서 사용하는 숫자로 바꿔 return하도록 solution 함수를 완성해주세요."
   ]
  },
  {
   "cell_type": "markdown",
   "id": "155aef63",
   "metadata": {},
   "source": [
    "## [제한사항]\n",
    "\n",
    "- 1 ≤ ```n``` ≤ 100"
   ]
  },
  {
   "cell_type": "markdown",
   "id": "d7e46e9e",
   "metadata": {},
   "source": [
    "## [입출력 예]\n",
    "\n",
    "|n|result|\n",
    "|---|---|\n",
    "|15|25|\n",
    "|40|76|\n",
    "\n",
    "입출력 예 #1\n",
    "15를 3x 마을의 숫자로 변환하면 25입니다.\n",
    "\n",
    "입출력 예 #2\n",
    "40을 3x 마을의 숫자로 변환하면 76입니다."
   ]
  },
  {
   "cell_type": "code",
   "execution_count": 30,
   "id": "c60d6376",
   "metadata": {
    "ExecuteTime": {
     "end_time": "2023-08-23T11:16:47.980458Z",
     "start_time": "2023-08-23T11:16:47.968067Z"
    }
   },
   "outputs": [
    {
     "name": "stdout",
     "output_type": "stream",
     "text": [
      "25\n",
      "76\n"
     ]
    }
   ],
   "source": [
    "# My Solution\n",
    "\n",
    "def solution(n):\n",
    "    answer = 0\n",
    "    for _ in range(n):\n",
    "        answer += 1\n",
    "        while True:\n",
    "            if (answer % 3 == 0) or (\"3\" in str(answer)):\n",
    "                answer += 1\n",
    "            else:\n",
    "                break\n",
    "    return answer\n",
    "\n",
    "print(solution(15))\n",
    "print(solution(40))"
   ]
  },
  {
   "cell_type": "markdown",
   "id": "75a13709",
   "metadata": {},
   "source": [
    "## [후기]\n",
    "\n",
    "3의 배수 또는 3이 포함된 숫자일 때마다 1씩 증가하는 부분을 지속적으로 체크해야 하는 부분이 번거로웠다. 그러니까 조건에 해당할 때 1 더하고 거기서 ```break```시킬 게 아니라, 조건에 해당할 때마다 계속 1씩 커지게 해서 **두 조건 중 어느 하나라도 걸리지 않도록** 만들어야 하는 부분 말이다. 사실 ```for```문의 아이디어와 ```while```문의 아이디어를 섞어서 구현했다면 단번에 해결했겠지만 유감스럽게도 구상 단계에서 유연하게 대응하지 못하고 두 개의 ```while```문으로만 처리하려고 했다.\n",
    "\n",
    "난이도가 크게 어려운 문제가 아니었음에도 불구하고 꽤 오랜 시간 헤맸던 게 조금 충격적이다. 아무래도 더 열심히 해야 할 것 같다."
   ]
  }
 ],
 "metadata": {
  "kernelspec": {
   "display_name": "Python 3 (ipykernel)",
   "language": "python",
   "name": "python3"
  },
  "language_info": {
   "codemirror_mode": {
    "name": "ipython",
    "version": 3
   },
   "file_extension": ".py",
   "mimetype": "text/x-python",
   "name": "python",
   "nbconvert_exporter": "python",
   "pygments_lexer": "ipython3",
   "version": "3.9.16"
  }
 },
 "nbformat": 4,
 "nbformat_minor": 5
}
