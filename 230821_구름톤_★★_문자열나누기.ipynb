{
 "cells": [
  {
   "cell_type": "markdown",
   "id": "b5fd7078",
   "metadata": {},
   "source": [
    "# 문자열 나누기 (구름톤 6일차)\n",
    "- 난이도: ★★\n",
    "- https://level.goorm.io/exam/195688/%EB%AC%B8%EC%9E%90%EC%97%B4-%EB%82%98%EB%88%84%EA%B8%B0/quiz/1"
   ]
  },
  {
   "cell_type": "markdown",
   "id": "a1c6431c",
   "metadata": {},
   "source": [
    "## [문제]\n",
    "\n",
    "길이가 $N$인 문자열 $S$가 주어진다. 플레이어는 문자열 $S$를 서로 겹치지 않는 $3$개의 부분문자열로 나누려고 한다. 부분문자열은 모두 길이가 $1$ 이상이어야 하며, 원래 문자열에서 연속해야 한다.\n",
    "\n",
    "문자열을 나누는 방법에 따라 플레이어는 점수를 얻을 수 있따. 점수는 다음 과정에 따라 계산된다.\n",
    "\n",
    "- 문자열 $S$를 위 조건에 따라 나눴을 때, 등장하는 모든 부분문자열을 중복 제거하고 사전순으로 정렬한 결과를 $P$라고 한다.\n",
    "- 나누어진 $3$개의 문자열이 각각 $P$에서 $i, j, k$번째로 등장하는 문자열이라면, 얻을 수 있는 점수는 $i+j+k$이다.\n",
    "\n",
    "예를 들어, ```abcd```라는 문자열을 $3$개의 부분문자열로 나누는 방법은 ```{a, b, cd}```, ```{a, bc, d}```, ```{ab, c, d}```의 세 가지가 있다. 여기서 부분문자열을 중복 제거하고 사전 순서로 정렬한 결과 $P$는 ```a```, ```ab```, ```b```, ```bc```, ```c```, ```cd```, ```d```이다. 이때 ```{ab, c, d}```로 문자열을 나눈 경우 얻을 수 있는 점수는 $2+5+7+=14$점이고, 얻을 수 있는 최대 점수이다.\n",
    "\n",
    "문자열 $S$를 $3$개의 부분문자열로 나눴을 때 얻을 수 있는 점수 중 최대 점수를 출력하시오."
   ]
  },
  {
   "cell_type": "markdown",
   "id": "155aef63",
   "metadata": {},
   "source": [
    "## [입력]\n",
    "\n",
    "첫째 줄에  문자열의 길이 정수 $N$이 주어진다.\n",
    "\n",
    "둘째 줄에 문자열 $S$가 주어진다.\n",
    "\n",
    "- $3 \\le N \\le 100$\n",
    "- $S$는 알파벳 소문자로만 구성되어 있다."
   ]
  },
  {
   "cell_type": "markdown",
   "id": "d7e46e9e",
   "metadata": {},
   "source": [
    "## [출력]\n",
    "\n",
    "문자열을 나눠서 얻을 수 있는 **최대 점수**를 출력한다."
   ]
  },
  {
   "cell_type": "markdown",
   "id": "36e6a7fe",
   "metadata": {},
   "source": [
    "## [예시]\n",
    "\n",
    "**예시 1**\n",
    "\n",
    "입력\n",
    "```python\n",
    "4\n",
    "abcd\n",
    "```\n",
    "\n",
    "출력\n",
    "```python\n",
    "14\n",
    "```\n",
    "\n",
    "**예시 2**\n",
    "\n",
    "입력\n",
    "```python\n",
    "3\n",
    "abz\n",
    "```\n",
    "\n",
    "출력\n",
    "```python\n",
    "6\n",
    "```"
   ]
  },
  {
   "cell_type": "code",
   "execution_count": 1,
   "id": "c60d6376",
   "metadata": {
    "ExecuteTime": {
     "end_time": "2023-08-21T05:56:04.321683Z",
     "start_time": "2023-08-21T05:56:01.373187Z"
    }
   },
   "outputs": [
    {
     "name": "stdout",
     "output_type": "stream",
     "text": [
      "4\n",
      "abcd\n",
      "14\n"
     ]
    }
   ],
   "source": [
    "# My Solution\n",
    "\n",
    "n = int(input())\n",
    "s = input()\n",
    "txts = []\n",
    "txts_set = set()\n",
    "\n",
    "for i in range(len(s) - 2):\n",
    "    for j in range(i + 1, len(s) - 1):\n",
    "        txts.append([s[:i + 1], s[i + 1:j + 1], s[j + 1:]])\n",
    "        txts_set.add(s[:i + 1])\n",
    "        txts_set.add(s[i + 1:j + 1])\n",
    "        txts_set.add(s[j + 1:])\n",
    "\n",
    "txts_sorted = sorted(list(txts_set))\n",
    "max_score = 0\n",
    "\n",
    "for txt in txts:\n",
    "    score = txts_sorted.index(txt[0]) + txts_sorted.index(txt[1]) + txts_sorted.index(txt[2]) + 3\n",
    "    if score > max_score:\n",
    "        max_score = score\n",
    "\n",
    "print(max_score)"
   ]
  },
  {
   "cell_type": "markdown",
   "id": "75a13709",
   "metadata": {},
   "source": [
    "## [후기]\n",
    "\n",
    "Combination(조합)을 통해 해결할 수 있겠다고 생각했다. 그래서 최초에는 ```from itertools import combinations```를 하려고 했는데 구름톤에서 해당 라이브러리를 불러올 수 없다고 나왔다. 그래서 그냥 내 손으로 해결하고자 중첩 반복문을 작성했다. 조합을 활용하고자 하는 아이디어는, 3개로 나눠진 **각 부분문자열의 끝점을 조합으로** 잡아주는 것이었다. 그 결과를 리스트에 저장한 뒤, 정렬 및 중복 제거된 리스트를 따로 생성하여 인덱싱하면서 결과를 찾아내도록 했다.\n",
    "\n",
    "정렬 및 중복 제거된 리스트를 만들 때에는 **```set```을 이용**했다. 최초에는 ```set(txts)```를 하려고 했으나, 각 원소들이 리스트로 구성되어 있어 해싱할 수 없다고 했다. 그래서 별도의 셋을 만들어서 넣어줬다. 반복문을 돌면서 이차원 리스트를 일차원 리스트로 합쳐버릴 수도 있었겠지만, 그것보다는 그냥 처음에 분리해서 넣어버리는 것이 시간적 리소스를 덜 잡아먹으리라고 생각했다.\n",
    "\n",
    "이후에는 각 케이스에 해당하는 점수를 계산하고, 최대 점수를 도출하고, 그것을 출력하도록 했다.\n",
    "\n",
    "이 문제는 $N$의 최댓값이 $100$이어서 널널하다고 볼 수도 있겠지만 $_{100}C_{3}=161,700$으로 생각보다 시간 복잡도의 함정에 걸리기 쉬운 문제다. 그래서 모든 경우의 수를 나열하는 두 개의 자료구조를 만드는 게 약간의 거부감이 들었다. 어쨌든 문제는 해결했으니 다행이다. 만약 시간 초과 문제가 발생했더라면? 모든 경우를 나열한 뒤에 점수를 계산하는 지금의 방식을 완전히 뜯어고쳐야만 했을 것이다. 방법이 있을지는 잘 모르겠으나 부분문자열로 분리하는 과정에서 점수를 계산하게끔 했어야 시간을 줄일 수 있었을 것 같다. 그 방법에 대해 고민해 보았으나 뾰족한 해결법이 떠오르진 않았다."
   ]
  }
 ],
 "metadata": {
  "kernelspec": {
   "display_name": "Python 3 (ipykernel)",
   "language": "python",
   "name": "python3"
  },
  "language_info": {
   "codemirror_mode": {
    "name": "ipython",
    "version": 3
   },
   "file_extension": ".py",
   "mimetype": "text/x-python",
   "name": "python",
   "nbconvert_exporter": "python",
   "pygments_lexer": "ipython3",
   "version": "3.9.16"
  }
 },
 "nbformat": 4,
 "nbformat_minor": 5
}
