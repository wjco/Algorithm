{
 "cells": [
  {
   "cell_type": "markdown",
   "id": "b5fd7078",
   "metadata": {},
   "source": [
    "# 프로젝트 매니징 (구름톤 2일차)\n",
    "- 난이도: ★\n",
    "- https://level.goorm.io/exam/195684/%ED%94%84%EB%A1%9C%EC%A0%9D%ED%8A%B8-%EB%A7%A4%EB%8B%88%EC%A7%95/quiz/1"
   ]
  },
  {
   "cell_type": "markdown",
   "id": "a1c6431c",
   "metadata": {},
   "source": [
    "## [문제]\n",
    "\n",
    "플레이어는 구름 프로젝트의 일정을 관리하는 PM(프로젝트 매니저)이자 유일한 개발자다. 현재 구름 프로젝트를 완수하기 위해서는 $N$개의 기능 개발이 추가로 필요하다. 각 기능에는 $1$번부터 $N$번까지 번호가 붙어 있고, $i$번째 기능을 개발하는 데에는 $c_i$분의 시간이 걸린다.\n",
    "\n",
    "플레이어는 프로젝트를 기한 안에 끝내기 위해 철야 작업에 들어갔다. 플레이어가 철야 작업을 시작한 시각은 $T$시 $M$분이다. 플레이어는 $1$번 기능부터 순서대로 개발을 진행하고, 한 기능 개발을 끝마치면 바로 다음 기능의 개발을 시작한다. 플레이어가 모든 기능 개발을 끝마친 시각을 구해보자."
   ]
  },
  {
   "cell_type": "markdown",
   "id": "155aef63",
   "metadata": {},
   "source": [
    "## [입력]\n",
    "\n",
    "첫째 줄에 필요한 기능의 개수 $N$이 주어진다.\n",
    "\n",
    "둘째 줄에 두 정수 $T$, $M$이 공백을 두고 주어진다. 이는 현재 시각이 $T$시 $M$분임을 의미한다.\n",
    "\n",
    "다음 $N$개의 줄에는 정수 $c_i$가 주어진다. $i$번째 기능을 개발하는 데는 $c_i$분의 시간이 걸린다.\n",
    "\n",
    "- $1 \\le N \\le 100$\n",
    "- $0 \\le T \\le 23$\n",
    "- $0 \\le M \\le 59$\n",
    "- $0 \\le c_i \\le 1,000$"
   ]
  },
  {
   "cell_type": "markdown",
   "id": "d7e46e9e",
   "metadata": {},
   "source": [
    "## [출력]\n",
    "\n",
    "구름 프로젝트가 완료된 시각의 **시**와 **분**을 공백을 두고 출력하시오. $23$시 $59$분에서 $1$분이 지난 시각은 $0$시 $0$분이다."
   ]
  },
  {
   "cell_type": "markdown",
   "id": "36e6a7fe",
   "metadata": {},
   "source": [
    "## [예시]\n",
    "\n",
    "**예시 1**\n",
    "\n",
    "    입력\n",
    "```python\n",
    "    3\n",
    "    10 10\n",
    "    50\n",
    "    22\n",
    "    23\n",
    "```\n",
    "\n",
    "    출력\n",
    "```python\n",
    "    11 45\n",
    "```\n",
    "\n",
    "**예시 2**\n",
    "\n",
    "    입력\n",
    "```python\n",
    "    4\n",
    "    23 40\n",
    "    1000\n",
    "    1000\n",
    "    880\n",
    "    20\n",
    "```\n",
    "\n",
    "    출력\n",
    "```python\n",
    "    0 0\n",
    "```"
   ]
  },
  {
   "cell_type": "code",
   "execution_count": 1,
   "id": "c60d6376",
   "metadata": {
    "ExecuteTime": {
     "end_time": "2023-08-15T06:14:47.297960Z",
     "start_time": "2023-08-15T06:14:41.087356Z"
    }
   },
   "outputs": [
    {
     "name": "stdout",
     "output_type": "stream",
     "text": [
      "4\n",
      "23 40\n",
      "1000\n",
      "1000\n",
      "880\n",
      "20\n",
      "0 0\n"
     ]
    }
   ],
   "source": [
    "# My Solution\n",
    "\n",
    "n = int(input())\n",
    "t, m = map(int, input().split())\n",
    "now = t * 60 + m\n",
    "cis = [int(input()) for _ in range(n)]\n",
    "\n",
    "for ci in cis:\n",
    "    now += ci\n",
    "\n",
    "print((now % (60 * 24)) // 60, (now % (60 * 24)) % 60)"
   ]
  },
  {
   "cell_type": "markdown",
   "id": "75a13709",
   "metadata": {},
   "source": [
    "## [후기]\n",
    "\n",
    "시간 데이터를 활용할 때에는 datetime 라이브러리를 종종 쓰곤 했지만 이번 문제에서는 굳이 그렇게까지 복잡하게 하지 않아도 될 것 같아서 별도의 import 없이 문제를 해결했다.\n",
    "\n",
    "풀이의 핵심은 **가장 작은 단위로 바꾸는 것.** 보통은 초 단위를 많이 활용하지만 이 문제 같은 경우는 분 단위만 고려하면 됐기에 시간을 분 단위로 변환하여 접근했다.\n",
    "\n",
    "또한 날짜가 바뀌는 것을 처리할 때 초기에는 while문으로 검사해 나가는 방식을 생각했다. 하루치 시간(60\\*24)보다 크면 그 만큼을 빼준 뒤 다시 루프를 돌리는 식으로 말이다. 그런데 곰곰이 생각해 보니까 며칠이 경과했는지를 체크할 것도 아닌데 굳이 그렇게 할 필요가 없더라고. 그냥 **전체 시간을 60\\*24로 나눴을 때의 나머지**를 시간, 분으로 출력해 주면 끝나는 문제였다."
   ]
  }
 ],
 "metadata": {
  "kernelspec": {
   "display_name": "Python 3 (ipykernel)",
   "language": "python",
   "name": "python3"
  },
  "language_info": {
   "codemirror_mode": {
    "name": "ipython",
    "version": 3
   },
   "file_extension": ".py",
   "mimetype": "text/x-python",
   "name": "python",
   "nbconvert_exporter": "python",
   "pygments_lexer": "ipython3",
   "version": "3.9.16"
  }
 },
 "nbformat": 4,
 "nbformat_minor": 5
}
