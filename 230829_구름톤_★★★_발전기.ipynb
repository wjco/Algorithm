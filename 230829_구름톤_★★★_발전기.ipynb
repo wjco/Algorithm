{
 "cells": [
  {
   "cell_type": "markdown",
   "id": "b5fd7078",
   "metadata": {},
   "source": [
    "# 발전기 (구름톤 12일차)\n",
    "- 난이도: ★★★\n",
    "- https://level.goorm.io/exam/195694/%EB%B0%9C%EC%A0%84%EA%B8%B0/quiz/1"
   ]
  },
  {
   "cell_type": "markdown",
   "id": "a1c6431c",
   "metadata": {},
   "source": [
    "## [문제]\n",
    "\n",
    "구름 심시티를 하고 있는 플레이어는 한 변의 길이가 $N$인 정사각형 모양의 마을 $M$을 만들고 있다. $r$번째 행, $c$번째 열에 해당하는 칸에는 숫자 $M_{r,c}$가 적혀 있다. $M_{r,c}$는 $0$ 또는 $1$ 중 하나이며, 각 숫자가 의미하는 바는 아래와 같다.\n",
    "\n",
    "- $0$이면 아무 것도 없는 칸이다.\n",
    "- $1$이면 집이 있는 칸이다.\n",
    "\n",
    "마을에 있는 집에 전력을 공급하기 위해선 그 집에 **발전기**를 설치하거나, 상하좌우로 인접한 집 중 하나가 전력을 공급받고 있으면 된다. 플레이어가 모든 집에 전력을 공급하기 위해서 설치해야 할 **발전기의 최소 개수**를 구해보자."
   ]
  },
  {
   "cell_type": "markdown",
   "id": "155aef63",
   "metadata": {},
   "source": [
    "## [입력]\n",
    "\n",
    "첫째 줄에 마을의 크기 $N$이 주어진다.\n",
    "\n",
    "다음 $N$개의 줄에는 마을의 상태를 나타내는 $N$개의 숫자가 공백을 두고 주어진다. $r$번째 줄에서 $c$번째로 주어지는 값이 $M_{r,c}$에 해당한다.\n",
    "\n",
    "- $1 \\le N \\le 1,000$\n",
    "- $M_{r,c}$는 $0$ 또는 $1$이다.\n",
    "- 주어지는 모든 수는 정수이다."
   ]
  },
  {
   "cell_type": "markdown",
   "id": "d7e46e9e",
   "metadata": {},
   "source": [
    "## [출력]\n",
    "\n",
    "플레이어가 모든 집에 전력을 공급하기 위해서 설치해야 할 **발전기의 최소 개수**를 출력한다."
   ]
  },
  {
   "cell_type": "markdown",
   "id": "36e6a7fe",
   "metadata": {},
   "source": [
    "## [예시]\n",
    "\n",
    "**예시 1**\n",
    "\n",
    "입력\n",
    "```\n",
    "3\n",
    "0 1 0\n",
    "1 0 1\n",
    "1 1 1\n",
    "```\n",
    "\n",
    "출력\n",
    "```\n",
    "2\n",
    "```\n",
    "\n",
    "**예시 2**\n",
    "\n",
    "입력\n",
    "```\n",
    "4\n",
    "1 1 1 1\n",
    "0 0 0 1\n",
    "1 1 1 1\n",
    "1 0 0 1\n",
    "```\n",
    "\n",
    "출력\n",
    "```\n",
    "1\n",
    "```"
   ]
  },
  {
   "cell_type": "code",
   "execution_count": 2,
   "id": "c60d6376",
   "metadata": {
    "ExecuteTime": {
     "end_time": "2023-08-29T04:13:24.036763Z",
     "start_time": "2023-08-29T04:13:16.719437Z"
    }
   },
   "outputs": [
    {
     "name": "stdout",
     "output_type": "stream",
     "text": [
      "4\n",
      "1 1 1 1\n",
      "0 0 0 1\n",
      "1 1 1 1\n",
      "1 0 0 1\n",
      "1\n"
     ]
    }
   ],
   "source": [
    "# My Solution\n",
    "\n",
    "def goorm_city(now, m, visited, answer):\n",
    "    '''\n",
    "    집 뭉텅이 하나를 찾아내는 함수\n",
    "    '''\n",
    "    stack = [now]\n",
    "    while stack: #DFS의 형태로 찾기\n",
    "        r, c = stack.pop()\n",
    "        visited[r][c] = answer #현재 방문 위치 체크\n",
    "        directions = [[r - 1, c], [r + 1, c], [r, c - 1], [r, c + 1]]\n",
    "        for direction in directions: #상하좌우 탐색\n",
    "            dir_r, dir_c = direction\n",
    "            if 0 <= dir_r < n and 0 <= dir_c < n:\n",
    "                if m[dir_r][dir_c] and (not visited[dir_r][dir_c]):\n",
    "                    stack.append(direction) #집이 있고 아직 탐색 안 한 곳\n",
    "    return visited\n",
    "\n",
    "n = int(input())\n",
    "m = [list(map(int, input().split())) for _ in range(n)]\n",
    "visited = [[0 for _ in range(n)] for __ in range(n)]\n",
    "answer = 0\n",
    "\n",
    "# 맵 전역을 탐색하면서 집 뭉텅이를 하나씩 찾아내기\n",
    "for r in range(n):\n",
    "    for c in range(n):\n",
    "        if m[r][c] and (not visited[r][c]):\n",
    "            answer += 1\n",
    "            visited = goorm_city([r, c], m, visited, answer)\n",
    "\n",
    "print(answer)"
   ]
  },
  {
   "cell_type": "markdown",
   "id": "f6f9d626",
   "metadata": {},
   "source": [
    "## [후기]\n",
    "\n",
    "보자마자 느낌이 왔다. 이거는 **DFS**를 이용해서 풀어야겠구나.\n",
    "\n",
    "맵 전역을 이중 ```for```문으로 돌면서 '집이 있고 아직 탐색 안 한 곳(```m[r][c] == 1 and visited[r][c] == 0```)'을 찾았다. 해당 장소를 발견하면 거기를 시작점으로 집 뭉텅이 하나를 찾아내도록 했다. 집 뭉텅이를 찾을 때에는 기준점에서 상, 하, 좌, 우를 탐색한 뒤 '집이 있고 아직 탐색 안 한 곳'을 스택에 담도록 했다. 또한 계속해서 스택에서 장소를 꺼내면서 탐색해 나가도록 했다. DFS 방식이다.\n",
    "\n",
    "하나의 집 뭉텅이가 완성되면 ```visited```를 리턴하여 다시 이중 ```for```문으로 돌아오게 했다. 그래서 다시금 '집이 있고 아직 탐색 안 한 곳'을 찾았다. 그렇게 모든 탐색이 완료되면 집 뭉텅이 개수를 출력하도록 했다.\n",
    "\n",
    "사실 골칫거리가 하나 있었는데 바로 **재귀 깊이**에 관한 것이었다. 최초에는 스택을 이용하지 않고 함수를 재귀시키는 방식으로 구현했다. 그랬더니 영문 모를 런타임 에러가 수두룩하게 나왔다. 변수를 전부 규격에 맞게 했으니 인덱싱 에러일 가능성은 희박하고, 재귀 깊이 제한에 걸리는 것이라는 촉이 왔다. 그래서 ```import sys```, ```sys.recursionlimit(1000000)```을 줬다. 그랬더니 대부분의 런타임 에러가 해결됐다. 역시 내 추측이 맞았다. 그런데 여전히 런타임 에러가 발생하는 테스트케이스가 있었다. 제한을 1억 이상으로 줘도 문제가 해결이 안 됐다. 재귀 방식으로 푸는 게 한계가 있음을 깨닫고 스택 방식으로 전환하여 해결했다.\n",
    "\n",
    "아래는 최초에 시도했던 방식이다."
   ]
  },
  {
   "cell_type": "code",
   "execution_count": 3,
   "id": "15eaed1f",
   "metadata": {
    "ExecuteTime": {
     "end_time": "2023-08-29T04:13:32.688249Z",
     "start_time": "2023-08-29T04:13:26.232524Z"
    }
   },
   "outputs": [
    {
     "name": "stdout",
     "output_type": "stream",
     "text": [
      "4\n",
      "1 1 1 1\n",
      "0 0 0 1\n",
      "1 1 1 1\n",
      "1 0 0 1\n",
      "1\n"
     ]
    }
   ],
   "source": [
    "def goorm_city(now, m, visited, answer):\n",
    "    r, c = now\n",
    "    visited[r][c] = answer\n",
    "    directions = [[r - 1, c], [r + 1, c], [r, c - 1], [r, c + 1]]\n",
    "    for direction in directions:\n",
    "        dir_r, dir_c = direction\n",
    "        if 0 <= dir_r < n and 0 <= dir_c < n:\n",
    "            if m[dir_r][dir_c] and (not visited[dir_r][dir_c]):\n",
    "                goorm_city(direction, m, visited, answer)\n",
    "    return visited\n",
    "\n",
    "n = int(input())\n",
    "m = [list(map(int, input().split())) for _ in range(n)]\n",
    "visited = [[0 for _ in range(n)] for __ in range(n)]\n",
    "answer = 0\n",
    "\n",
    "for r in range(n):\n",
    "    for c in range(n):\n",
    "        if m[r][c] and (not visited[r][c]):\n",
    "            answer += 1\n",
    "            visited = goorm_city([r, c], m, visited, answer)\n",
    "\n",
    "print(answer)"
   ]
  }
 ],
 "metadata": {
  "kernelspec": {
   "display_name": "Python 3 (ipykernel)",
   "language": "python",
   "name": "python3"
  },
  "language_info": {
   "codemirror_mode": {
    "name": "ipython",
    "version": 3
   },
   "file_extension": ".py",
   "mimetype": "text/x-python",
   "name": "python",
   "nbconvert_exporter": "python",
   "pygments_lexer": "ipython3",
   "version": "3.9.16"
  }
 },
 "nbformat": 4,
 "nbformat_minor": 5
}
