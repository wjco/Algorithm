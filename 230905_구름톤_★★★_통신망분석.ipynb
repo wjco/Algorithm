{
 "cells": [
  {
   "cell_type": "markdown",
   "id": "b5fd7078",
   "metadata": {},
   "source": [
    "# 통신망 분석 (구름톤 17일차)\n",
    "- 난이도: ★★★\n",
    "- https://level.goorm.io/exam/195699/%EA%B7%B8%EB%9E%98%ED%94%84%EC%9D%98-%EB%B0%80%EC%A7%91%EB%8F%84/quiz/1"
   ]
  },
  {
   "cell_type": "markdown",
   "id": "a1c6431c",
   "metadata": {},
   "source": [
    "## [문제]\n",
    "\n",
    "이 세상에는 수많은 컴퓨터들이 통신망을 통해 서로 연결되어 정보를 교류하고 있다. 오늘 플레이어는 이 거대한 통신망 중 한 구역을 조사하고자 한다.\n",
    "\n",
    "플레이어가 조사할 구역에는 $N$개의 컴퓨터가 있고, $M$개의 통신 회선이 있다. 각 컴퓨터는 $1$번부터 $N$번까지 번호가 붙어 있고, 통신 회선은 서로 다른 투 컴퓨터를 양방향으로 연결하고 있다.\n",
    "\n",
    "컴퓨터들은 연결 여부에 따라 여러 개의 **컴포넌트**로 나뉜다. 어떤 두 컴퓨터가 통신 회선만을 이용해서 연결되어 있다면 두 컴퓨터는 같은 컴포넌트에 속한다.\n",
    "\n",
    "플레이어는 여러 개의 컴포넌트 중, 가장 **밀도**가 높은 컴포넌트를 조사하려고 한다. 컴포넌트의 밀도는 그 컴포넌트에 포함된 **통신 회선의 개수를 컴퓨터의 수로 나눈 값**이다. 주어진 통신 구역을 분석해서, 가장 밀도가 높은 컴포넌트의 정보를 출력해보자."
   ]
  },
  {
   "cell_type": "markdown",
   "id": "ecf84fdb",
   "metadata": {},
   "source": [
    "## [예제 설명]\n",
    "\n",
    "첫 번째 예제에서 주어진 통신 구역에는 두 개의 컴포넌트가 있다. 한 컴포넌트는 **(1, 3, 5, 7)** 번 컴퓨터로 이루어져 있고, 다른 컴포넌트는 **(2, 4, 6)** 번 컴포넌트로 이루어져 있다.\n",
    "\n",
    "**(1, 3, 5, 7)** 번 정점으로 구성된 컴포넌트에는 네 개의 통신 회선이 존재하므로, 이 컴포넌트의 밀도는 ${4 \\over 4} = 1$이다. **(2, 4, 6)** 번 컴퓨터로 구성된 컴포넌트에는 두 개의 통신 회선이 존재하므로, 이 컴포넌트의 밀도는 ${2 \\over 3}$이다.\n",
    "\n",
    "먼저 주어진 컴포넌트의 밀도가 더 크므로, **1 3 5 7**을 답으로 출력해야 한다."
   ]
  },
  {
   "cell_type": "markdown",
   "id": "155aef63",
   "metadata": {},
   "source": [
    "## [입력]\n",
    "\n",
    "첫째 줄에 컴퓨터의 개수 $N$과 통신 회선의 개수 $M$이 공백을 두고 주어진다.\n",
    "\n",
    "다음 $M$개의 줄에는 통신 회선이 잇는 두 정점 $a_i , b_i$가 공백을 두고 주어진다.\n",
    "\n",
    "- $2 \\le N \\le 100,000$\n",
    "- $1 \\le M \\le 200,000$\n",
    "- $1 \\le a_i , b_i \\le N$ ; $a_i \\neq b_i$\n",
    "- 같은 두 컴퓨터 쌍을 연결하는 통신 회선은 최대 하나이다.\n",
    "- 입력에서 주어지는 모든 수는 정수이다."
   ]
  },
  {
   "cell_type": "markdown",
   "id": "d7e46e9e",
   "metadata": {},
   "source": [
    "## [출력]\n",
    "\n",
    "아래 조건을 만족하는 컴포넌트에 포함된 컴퓨터의 번호를 오름차순으로 공백을 두고 출력한다.\n",
    "\n",
    "1. **가장 밀도가 높은** 컴포넌트를 출력한다.\n",
    "2. 1을 만족하는 컴포넌트가 여러 개라면, 컴포넌트를 구성하는 **컴퓨터의 수가 가장 작은** 컴포넌트를 출력한다.\n",
    "3. 2를 만족하는 컴포넌트가 여러 개라면, **더 작은 번호를 가진 컴퓨터가 있는** 컴포넌트를 출력한다."
   ]
  },
  {
   "cell_type": "markdown",
   "id": "36e6a7fe",
   "metadata": {},
   "source": [
    "## [예시]\n",
    "\n",
    "**예시 1**\n",
    "\n",
    "입력\n",
    "```\n",
    "7 6\n",
    "1 3\n",
    "5 3\n",
    "3 7\n",
    "7 1\n",
    "2 4\n",
    "4 6\n",
    "```\n",
    "\n",
    "출력\n",
    "```\n",
    "1 3 5 7 \n",
    "```\n",
    "\n",
    "**예시 2**\n",
    "\n",
    "입력\n",
    "```\n",
    "6 6\n",
    "2 3\n",
    "5 3\n",
    "2 6\n",
    "1 2\n",
    "1 4\n",
    "5 4\n",
    "```\n",
    "\n",
    "출력\n",
    "```\n",
    "1 2 3 4 5 6 \n",
    "```\n",
    "\n",
    "**예시 3**\n",
    "\n",
    "입력\n",
    "```\n",
    "17 4\n",
    "16 17\n",
    "3 16\n",
    "1 17\n",
    "7 5\n",
    "```\n",
    "\n",
    "출력\n",
    "```\n",
    "1 3 16 17 \n",
    "```"
   ]
  },
  {
   "cell_type": "code",
   "execution_count": 18,
   "id": "dd21be81",
   "metadata": {
    "ExecuteTime": {
     "end_time": "2023-09-05T09:15:12.478675Z",
     "start_time": "2023-09-05T09:15:01.132599Z"
    },
    "scrolled": true
   },
   "outputs": [
    {
     "name": "stdout",
     "output_type": "stream",
     "text": [
      "7 6\n",
      "1 3\n",
      "5 3\n",
      "3 7\n",
      "7 1\n",
      "2 4\n",
      "4 6\n",
      "1 3 5 7 "
     ]
    }
   ],
   "source": [
    "# My Solution\n",
    "\n",
    "def find_component(start, connections, visited):\n",
    "    '''\n",
    "    DFS 방식으로 컴포넌트를 구성하고 있는 컴퓨터의 번호를 체크한 뒤\n",
    "    컴포넌트와 밀도를 반환하는 함수.\n",
    "    '''\n",
    "    stack = [start]\n",
    "    component = []\n",
    "    connection_num = 0\n",
    "    while stack:\n",
    "        now = stack.pop()\n",
    "        visited[now - 1] = 1\n",
    "        component.append(now)\n",
    "        for connection in connections[now]:\n",
    "            connection_num += 1\n",
    "            if not visited[connection - 1]:\n",
    "                stack.append(connection)\n",
    "                visited[connection - 1] = 1\n",
    "    return sorted(component), (connection_num // 2) / len(component), visited\n",
    "    \n",
    "n, m = map(int, input().split())\n",
    "connections = {i: [] for i in range(1, n + 1)}\n",
    "visited = [0 for _ in range(n)]\n",
    "densities = []\n",
    "\n",
    "# 통신 회선 양방향으로 받기\n",
    "for _ in range(m):\n",
    "    a, b = map(int, input().split())\n",
    "    connections[a].append(b)\n",
    "    connections[b].append(a)\n",
    "\n",
    "# 컴포넌트와 밀도를 구해서 저장\n",
    "for i in range(1, n + 1):\n",
    "    if connections[i] and not visited[i - 1]:\n",
    "        component, density, visited = find_component(i, connections, visited)\n",
    "        densities.append([component, density])\n",
    "\n",
    "# 조건에 맞는 컴포넌트를 찾아서 출력\n",
    "max_density = max(densities, key=lambda x:x[1])[1] #가장 높은 밀도 값\n",
    "max_components = []\n",
    "for component, density in sorted(densities, key=lambda x:x[1], reverse=True):\n",
    "    if density == max_density:\n",
    "        max_components.append(component) #가장 높은 밀도 값과 같은 컴포넌트들을 모두 저장\n",
    "    elif density < max_density:\n",
    "        break\n",
    "for i in sorted(max_components, key=lambda x:[len(x), x[0]])[0]: #컴퓨터 개수, 번호 작은 순\n",
    "    print(i, end=' ')"
   ]
  },
  {
   "cell_type": "markdown",
   "id": "74f11137",
   "metadata": {},
   "source": [
    "## [후기]\n",
    "\n",
    "통신 회선을 받은 뒤 **DFS 방식**으로 컴포넌트를 찾아내고, 그 컴포넌트들을 3가지 조건에 맞게 **정렬**하여 최종 답을 출력하도록 했다. 앞부분은 이미 수 차례 반복해 왔던 부분이라 전혀 어렵지 않았다. 오히려 조건을 처리해주는 부분이 까다로웠다. 리스트의 길이(컴퓨터의 수), 리스트에 속한 원소 정보(컴퓨터의 번호), 그리고 리스트와는 별도로 주어지는 값(밀도)을 모두 고려해야만 했기 때문이다.\n",
    "\n",
    "최초에 컴포넌트 하나를 찾아서 리턴할 때 ```sorted()```를 통해 정렬하여 반환하도록 했다. 그렇게 해야 추후에 3번 조건인 가장 작은 컴퓨터 번호를 찾아낼 때 유리할 것이라는 판단이었다. 이후 밀도 순으로 나열하여 최대 밀도인 컴포넌트만 새로운 리스트에 담고, 새로운 리스트를 컴퓨터 개수(```len()```) 및 가장 작은 컴퓨터 번호(```x[0]```)를 모두 고려하도록 정렬하여, 가장 최우선시되는 값을 출력하도록 했다."
   ]
  }
 ],
 "metadata": {
  "kernelspec": {
   "display_name": "Python 3 (ipykernel)",
   "language": "python",
   "name": "python3"
  },
  "language_info": {
   "codemirror_mode": {
    "name": "ipython",
    "version": 3
   },
   "file_extension": ".py",
   "mimetype": "text/x-python",
   "name": "python",
   "nbconvert_exporter": "python",
   "pygments_lexer": "ipython3",
   "version": "3.9.16"
  }
 },
 "nbformat": 4,
 "nbformat_minor": 5
}
