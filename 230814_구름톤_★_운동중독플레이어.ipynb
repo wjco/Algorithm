{
 "cells": [
  {
   "cell_type": "markdown",
   "id": "b5fd7078",
   "metadata": {},
   "source": [
    "# 운동 중독 플레이어 (구름톤 1일차)\n",
    "- 난이도: ★\n",
    "- https://level.goorm.io/exam/195683/%EC%9A%B4%EB%8F%99-%EC%A4%91%EB%8F%85-%ED%94%8C%EB%A0%88%EC%9D%B4%EC%96%B4/quiz/1"
   ]
  },
  {
   "cell_type": "markdown",
   "id": "a1c6431c",
   "metadata": {},
   "source": [
    "## [문제]\n",
    "\n",
    "근력 운동을 할 때, 1회에 최대한으로 들 수 있는 무게를 $1RM$이라고 한다. 본인의 $1RM$이 얼마나 되는지를 알아야 효율적인 운동 방식을 고를 수 있어 $1RM$을 측정하는 것은 무척 중요하다. 그러나 무작정 무거운 무게를 들어서 측정하는 방식은 다칠 위험이 크므로, 보통은 다양한 공식을 사용해서 $1RM$을 추정한다. 최대 무게가 아닌 적당한 무게를 몇 번 반복해서 들었나를 가지고 내가 한 번에 들 수 있는 최대 무게를 추정하는 식이다. 이번 문제에서는 아래와 같은 공식을 사용한다. $W$는 무게, $R$은 반복 횟수를 의미한다.\n",
    "\n",
    "$$1RM=W\\times(1+\\frac{R}{30})$$\n",
    "\n",
    "최근에 운동을 시작한 플레이어는 본인의 운동 기록을 바탕으로 $1RM$을 계산하려고 한다. 플레이어가 스쿼트 한 세트에서 들어올린 무게와 반복 횟수가 주어졌을 때, 플레이어의 $1RM$을 소수점 이하의 값을 버린 뒤 출력하시오. 플레이어가 들 수 있는 무게는 무한히 크다고 가정한다."
   ]
  },
  {
   "cell_type": "markdown",
   "id": "155aef63",
   "metadata": {},
   "source": [
    "## [입력]\n",
    "\n",
    "첫째 줄에 플레이어가 스쿼트 한 세트에서 들어올린 무게 $W$와 반복 횟수 $R$이 공백을 두고 주어진다.\n",
    "- $1\\le W \\le 1,000,000$\n",
    "- $1\\le R \\le 100$\n",
    "- 입력에서 주어지는 모든 수는 정수이다."
   ]
  },
  {
   "cell_type": "markdown",
   "id": "d7e46e9e",
   "metadata": {},
   "source": [
    "## [출력]\n",
    "\n",
    "플레이어의 $1RM$을 소수점 이하의 값은 버린 뒤 출력한다."
   ]
  },
  {
   "cell_type": "markdown",
   "id": "36e6a7fe",
   "metadata": {},
   "source": [
    "## [예시]\n",
    "\n",
    "**예시 1**\n",
    "\n",
    "    입력\n",
    "```python\n",
    "100 30\n",
    "```\n",
    "\n",
    "    출력\n",
    "```python\n",
    "200\n",
    "```\n",
    "\n",
    "**예시 2**\n",
    "\n",
    "    입력\n",
    "```python\n",
    "100 10\n",
    "```\n",
    "\n",
    "    출력\n",
    "```python\n",
    "133\n",
    "```"
   ]
  },
  {
   "cell_type": "code",
   "execution_count": 1,
   "id": "c60d6376",
   "metadata": {
    "ExecuteTime": {
     "end_time": "2023-08-14T10:16:19.165629Z",
     "start_time": "2023-08-14T10:16:14.274884Z"
    }
   },
   "outputs": [
    {
     "name": "stdout",
     "output_type": "stream",
     "text": [
      "100 30\n",
      "200\n"
     ]
    }
   ],
   "source": [
    "# My Solution\n",
    "\n",
    "w, r = map(int, input().split())\n",
    "rm = w * (1 + (r / 30))\n",
    "print(int(rm))"
   ]
  },
  {
   "cell_type": "markdown",
   "id": "75a13709",
   "metadata": {},
   "source": [
    "## [후기]\n",
    "\n",
    "문제에서 하라는 대로만 하면 그냥 풀리는 문제였다. 이때 RM은 float 형식이기 때문에 소수점 이하의 값을 버리기 위해 ```int()```를 활용했다."
   ]
  }
 ],
 "metadata": {
  "kernelspec": {
   "display_name": "Python 3 (ipykernel)",
   "language": "python",
   "name": "python3"
  },
  "language_info": {
   "codemirror_mode": {
    "name": "ipython",
    "version": 3
   },
   "file_extension": ".py",
   "mimetype": "text/x-python",
   "name": "python",
   "nbconvert_exporter": "python",
   "pygments_lexer": "ipython3",
   "version": "3.9.16"
  }
 },
 "nbformat": 4,
 "nbformat_minor": 5
}
