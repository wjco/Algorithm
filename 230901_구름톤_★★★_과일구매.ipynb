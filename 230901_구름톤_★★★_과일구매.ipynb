{
 "cells": [
  {
   "cell_type": "markdown",
   "id": "b5fd7078",
   "metadata": {},
   "source": [
    "# 과일 구매 (구름톤 15일차)\n",
    "- 난이도: ★★★\n",
    "- https://level.goorm.io/exam/195697/%EA%B3%BC%EC%9D%BC-%EA%B5%AC%EB%A7%A4/quiz/1"
   ]
  },
  {
   "cell_type": "markdown",
   "id": "a1c6431c",
   "metadata": {},
   "source": [
    "## [문제]\n",
    "\n",
    "과일을 사기 위해 마트를 간 플레이어는 큰 난관에 봉착했다. 왜냐하면 팔고 있는 과일이 너무 많아서, 어떤 과일을 사면 좋을지 결정하는 게 너무 어려웠기 때문이다. 현재 마트에서 팔고 있는 과일은 $N$종류가 한 개씩 있고, 각 과일의 가격은 $P_i$, 그리고 그 과일을 먹었을 때 플레이어가 얻을 수 있는 포만감은 $C_i$이다.\n",
    "\n",
    "이 마트에서는 특이하게도 과일을 조각 단위로 구매하는 것이 가능하다. 가격이 $p$인 과일을 조각 단위로 구매하고자 할 경우, 플레이어는 이 과일을 $p$개의 조각으로 자른 뒤 그중 원하는 몇 개의 조각만을 구매할 수 있다. 이때 모든 조각의 가격은 $1$, 먹었을 때 얻을 수 있는 포만감은 ${C_i} \\over {P_i}$로 동일하다.\n",
    "\n",
    "플레이어는 $K$만큼의 돈을 가지고 있다. 플레이어는 주어진 금액 이내에서 **구매한 과일들의 포만감 합**이 가장 크게 되도록 살 과일을 선택하려고 한다. 플레이어가 최적의 방법에 따라 과일을 구매했을 때, **구매한 과일들의 최대 포만감 합**을 구해보자."
   ]
  },
  {
   "cell_type": "markdown",
   "id": "ecf84fdb",
   "metadata": {},
   "source": [
    "## [예제 설명]\n",
    "\n",
    "첫 번째 에제에서는 **두 번째, 세 번째, 네 번째, 여섯 번째** 과일을 통째로 구매하고, **첫 번째** 과일을 한 조각 구매하는 것이 최대 포만감 합을 얻을 수 있는 방법이다."
   ]
  },
  {
   "cell_type": "markdown",
   "id": "155aef63",
   "metadata": {},
   "source": [
    "## [입력]\n",
    "\n",
    "첫째 줄에 마트에서 파는 과일의 개수 $N$과 플레이어가 가진 돈 $K$가 공백을 두고 주어진다.\n",
    "\n",
    "다음 $N$개의 줄에는 각 과일의 가격 $P_i$와 그 과일을 먹었을 때 플레이어가 얻을 수 있는 포만감 $C_i$가 공백을 두고 주어진다.\n",
    "\n",
    "- $1 \\le N \\le 1,000$\n",
    "- $1 \\le K \\le 10^9$\n",
    "- $1 \\le P_i \\le 10^9$\n",
    "- $1 \\le C_i \\le 10^9$\n",
    "- $C_i$는 항상 $P_i$의 배수이다.\n",
    "- 입력에서 주어지는 모든 수는 정수이다."
   ]
  },
  {
   "cell_type": "markdown",
   "id": "d7e46e9e",
   "metadata": {},
   "source": [
    "## [출력]\n",
    "\n",
    "플레이어가 **구매한 과일들의 최대 포만감 합**을 출력한다."
   ]
  },
  {
   "cell_type": "markdown",
   "id": "36e6a7fe",
   "metadata": {},
   "source": [
    "## [예시]\n",
    "\n",
    "**예시 1**\n",
    "\n",
    "입력\n",
    "```\n",
    "6 13\n",
    "2 8\n",
    "7 35\n",
    "1 5\n",
    "3 12\n",
    "10 30\n",
    "1 7\n",
    "```\n",
    "\n",
    "출력\n",
    "```\n",
    "63\n",
    "```\n",
    "\n",
    "**예시 2**\n",
    "\n",
    "입력\n",
    "```\n",
    "5 4\n",
    "1 999999996\n",
    "1 999999997\n",
    "1 999999998\n",
    "1 999999999\n",
    "1 1000000000\n",
    "```\n",
    "\n",
    "출력\n",
    "```\n",
    "3999999994\n",
    "```\n",
    "\n",
    "**예시 3**\n",
    "\n",
    "입력\n",
    "```\n",
    "1 1\n",
    "1000000000 1000000000\n",
    "```\n",
    "\n",
    "출력\n",
    "```\n",
    "1\n",
    "```"
   ]
  },
  {
   "cell_type": "code",
   "execution_count": 1,
   "id": "4eebdd8f",
   "metadata": {
    "ExecuteTime": {
     "end_time": "2023-09-01T07:18:19.108489Z",
     "start_time": "2023-09-01T07:18:11.953137Z"
    }
   },
   "outputs": [
    {
     "name": "stdout",
     "output_type": "stream",
     "text": [
      "6 13\n",
      "2 8\n",
      "7 35\n",
      "1 5\n",
      "3 12\n",
      "10 30\n",
      "1 7\n",
      "63\n"
     ]
    }
   ],
   "source": [
    "# My Solution\n",
    "\n",
    "n, k = map(int, input().split())\n",
    "fruits = [] #조각 개수, 조각 당 포만감\n",
    "\n",
    "for _ in range(n):\n",
    "    slice_num, total_full = map(int, input().split())\n",
    "    slice_full = total_full // slice_num\n",
    "    fruits.append([slice_num, slice_full])\n",
    "\n",
    "fruits = sorted(fruits, key=lambda x:x[1], reverse=True)\n",
    "total_full = 0\n",
    "total_spending = 0\n",
    "\n",
    "for fruit in fruits:\n",
    "    fruit_num = min(fruit[0], (k - total_spending)) #살 수 있는 조각 개수\n",
    "    total_full += fruit_num * fruit[1]\n",
    "    total_spending += fruit_num\n",
    "    if total_spending >= k:\n",
    "        break\n",
    "\n",
    "print(total_full)"
   ]
  },
  {
   "cell_type": "markdown",
   "id": "74f11137",
   "metadata": {},
   "source": [
    "## [후기]\n",
    "\n",
    "모든 과일들이 1원 당 얼마의 포만감을 올려주는지 계산한 뒤, 높은 수치의 과일부터 구매하도록 했다. 이것이 가능한 이유는 **조각 당 1원**이라는 특수한 규칙 때문이다. 모든 과일에 대해 '조각 당 포만감 효율'을 계산하여 그것을 기준으로 생각했더니 꽤나 간단해졌다.\n",
    "\n",
    "그리디 문제는 어떤 기발하고 명쾌한 생각을 해내냐에 따라 풀이 속도가 극명하게 갈리는 것 같다. 이 문제의 경우에는 **효율 좋은 과일부터 구매**한다는 직관적인 규칙을 발견한 덕에 쉽게 풀었다."
   ]
  }
 ],
 "metadata": {
  "kernelspec": {
   "display_name": "Python 3 (ipykernel)",
   "language": "python",
   "name": "python3"
  },
  "language_info": {
   "codemirror_mode": {
    "name": "ipython",
    "version": 3
   },
   "file_extension": ".py",
   "mimetype": "text/x-python",
   "name": "python",
   "nbconvert_exporter": "python",
   "pygments_lexer": "ipython3",
   "version": "3.9.16"
  }
 },
 "nbformat": 4,
 "nbformat_minor": 5
}
