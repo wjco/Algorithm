{
 "cells": [
  {
   "cell_type": "markdown",
   "id": "b5fd7078",
   "metadata": {},
   "source": [
    "# 발전기 (2) (구름톤 13일차)\n",
    "- 난이도: ★★★\n",
    "- https://level.goorm.io/exam/195695/%EB%B0%9C%EC%A0%84%EA%B8%B0-2/quiz/1"
   ]
  },
  {
   "cell_type": "markdown",
   "id": "a1c6431c",
   "metadata": {},
   "source": [
    "## [문제]\n",
    "\n",
    "구름 심시티를 하고 있는 플레이어는 한 변의 길이가 $N$인 정사각형 모양의 마을 $M$을 만들고 있다. 마을의 모든 칸에는 건물이 하나씩 있고, $r$번째 행, $c$번째 열에 해당하는 칸에는 정수 $M_{r,c}$가 적혀 있다. $M_{r,c}$는 해당 칸에 있는 **건물의 유형**의 번호를 의미한다.\n",
    "\n",
    "건물의 유형이 동일하면서, 서로 상하좌우 인접한 칸에 위치한 건물끼리는 서로 전력을 공유할 수 있다. 전력을 공유할 수 있는 관계에 속한 건물의 개수가 $K$개 이상이면 이를 **단지**라고 한다.\n",
    "\n",
    "플레이어는 발전기를 설치해 각 단지에 전력을 공급하고자 한다. 하지만 비용 문제로 인해 **단 하나**의 발전기만 설치할 수 있다. 발전기는 특정 건물 유형 하나에 해당하는 모든 단지에 전력을 공급할 수 있다. 그래서 플레이어는 **가장 많은 단지**가 있는 건물 유형에 전력을 공급할 것이다. 만약 그러한 건물 유형이 여러 개라면, $M_{r,c}$가 더 큰 건물 유형에 전력을 공급한다.\n",
    "\n",
    "플레이어가 전력을 공급해야 할 건물의 유형 번호를 구해보자."
   ]
  },
  {
   "cell_type": "markdown",
   "id": "155aef63",
   "metadata": {},
   "source": [
    "## [입력]\n",
    "\n",
    "첫째 줄에 마을의 크기 $N$과 단지의 기준 $K$가 공백을 두고 주어진다.\n",
    "\n",
    "다음 $N$개의 줄에는 마을의 상태를 나타내는 $N$개의 숫자가 공백을 두고 주어진다. $r$번째 줄에서 $c$번째로 주어지는 값이 $M_{r,c}$에 해당한다.\n",
    "\n",
    "- $1 \\le N \\le 1,000$\n",
    "- $1 \\le K \\le 50$\n",
    "- $1 \\le M_{r,c} \\le 30$\n",
    "- 최소 하나 이상의 단지가 있는 입력만 주어진다.\n",
    "- 주어지는 모든 수는 정수이다."
   ]
  },
  {
   "cell_type": "markdown",
   "id": "d7e46e9e",
   "metadata": {},
   "source": [
    "## [출력]\n",
    "\n",
    "플레이어가 전력을 공급해야 할 건물의 유형 번호를 출력한다."
   ]
  },
  {
   "cell_type": "markdown",
   "id": "36e6a7fe",
   "metadata": {},
   "source": [
    "## [예시]\n",
    "\n",
    "**예시 1**\n",
    "\n",
    "입력\n",
    "```\n",
    "3 2\n",
    "1 1 3\n",
    "2 2 3\n",
    "3 3 2\n",
    "```\n",
    "\n",
    "출력\n",
    "```\n",
    "3\n",
    "```\n",
    "\n",
    "**예시 2**\n",
    "\n",
    "입력\n",
    "```\n",
    "5 3\n",
    "1 1 1 2 2\n",
    "3 3 3 1 2\n",
    "1 1 2 1 1\n",
    "1 2 2 2 2\n",
    "3 1 1 1 1\n",
    "```\n",
    "\n",
    "출력\n",
    "```\n",
    "1\n",
    "```"
   ]
  },
  {
   "cell_type": "code",
   "execution_count": 1,
   "id": "4eebdd8f",
   "metadata": {
    "ExecuteTime": {
     "end_time": "2023-08-30T06:58:27.488284Z",
     "start_time": "2023-08-30T06:58:10.344548Z"
    }
   },
   "outputs": [
    {
     "name": "stdout",
     "output_type": "stream",
     "text": [
      "5 3\n",
      "1 1 1 2 2\n",
      "3 3 3 1 2\n",
      "1 1 2 1 1\n",
      "1 2 2 2 2\n",
      "3 1 1 1 1\n",
      "1\n"
     ]
    }
   ],
   "source": [
    "# My Solution\n",
    "\n",
    "def goorm_city(now, m, visited):\n",
    "    '''\n",
    "    시작점과 연결된 하나의 단지를 찾아내는 함수\n",
    "    '''\n",
    "    stack = [now]\n",
    "    building_type = m[now[0]][now[1]] #기준이 될 건물 유형 번호\n",
    "    building_in_cluster = 0 #단지에 존재하는 건물의 개수\n",
    "    \n",
    "    while stack: #DFS의 형태로 찾기\n",
    "        r, c = stack.pop()\n",
    "        visited[r][c] = 1 #현재 방문 위치 기록\n",
    "        building_in_cluster += 1\n",
    "        \n",
    "        directions = [[r - 1, c], [r + 1, c], [r, c - 1], [r, c + 1]]\n",
    "        for direction in directions: #상하좌우 탐색\n",
    "            dir_r, dir_c = direction\n",
    "            if 0 <= dir_r < n and 0 <= dir_c < n:\n",
    "                if m[dir_r][dir_c] == building_type and not(visited[dir_r][dir_c]):\n",
    "                    stack.append([dir_r, dir_c]) #기준 건물 유형과 동일하고 아직 탐색 안 한 곳\n",
    "                    visited[dir_r][dir_c] = 1 #동일한 건물 중복 카운트 방지\n",
    "\n",
    "    return building_type, building_in_cluster, visited\n",
    "\n",
    "n, k = map(int, input().split())\n",
    "m = [list(map(int, input().split())) for _ in range(n)]\n",
    "visited = [[0 for _ in range(n)] for __ in range(n)]\n",
    "clusters = {i: 0 for i in range(30, 0, -1)}\n",
    "\n",
    "# 맵 전역을 탐색하면서 단지를 하나씩 찾아내기\n",
    "for r in range(n):\n",
    "    for c in range(n):\n",
    "        if visited[r][c] == 0:\n",
    "            building_type, building_in_cluster, visited = goorm_city([r, c], m, visited)\n",
    "            if building_in_cluster >= k:\n",
    "                clusters[building_type] += 1\n",
    "\n",
    "print(list(clusters.keys())[list(clusters.values()).index(max(clusters.values()))])"
   ]
  },
  {
   "cell_type": "markdown",
   "id": "74f11137",
   "metadata": {},
   "source": [
    "## [후기]\n",
    "\n",
    "지난 문제와 비슷한데 약간의 변형이 있었다. 마찬가지로 재귀가 아닌 **스택을 활용한 DFS**로 풀었다.\n",
    "\n",
    "지난 문제와의 차이점은 크게 두 가지다.\n",
    "- 건물의 존재 여부뿐만 아니라 **건물의 유형**까지 고려해야만 했다. 같은 종류끼리 단지를 구성하기 때문이다. 그래서 함수의 초기값으로 ```building_type```을 넣어준 뒤 해당 값을 기준으로 탐색하도록 했다. 그리고 함수의 반환값으로 ```visited```(방문한 위치)뿐만 아니라 ```building_type```(건물 유형)과 ```building_in_cluster```(단지에 존재하는 건물 개수)를 같이 줘서 추후에 유형 별로 처리하도록 했다.\n",
    "- 단지의 존재 여부뿐만 아니라 해당 단지를 이루고 있는 **건물의 개수**도 중요했다. 이전에는 같은 건물을 두 번 체크한다고 해서 크게 문제될 것이 없었지만 이번에는 그렇게 하면 건물의 개수가 정확하게 도출되지 않는 문제가 있었다. 건물의 위치를 스택에 넣을 때 ```visited```를 체크하도록 하여 같은 건물을 여러 번 탐색하지 않도록 했다.\n",
    "\n",
    "사실 지난 문제의 골격에서 몇몇 부분만 수정하면 돼서 크게 어렵진 않았다. 다만 같은 건물이 여러 번 체크되는 문제를 발견하기까지의 과정이 가장 고역이었다. 분명 정상적으로 돌아가는 것 같은데 여러 테스트케이스에서 오답이 나와서 한참을 들여다보다 해결했다."
   ]
  }
 ],
 "metadata": {
  "kernelspec": {
   "display_name": "Python 3 (ipykernel)",
   "language": "python",
   "name": "python3"
  },
  "language_info": {
   "codemirror_mode": {
    "name": "ipython",
    "version": 3
   },
   "file_extension": ".py",
   "mimetype": "text/x-python",
   "name": "python",
   "nbconvert_exporter": "python",
   "pygments_lexer": "ipython3",
   "version": "3.9.16"
  }
 },
 "nbformat": 4,
 "nbformat_minor": 5
}
