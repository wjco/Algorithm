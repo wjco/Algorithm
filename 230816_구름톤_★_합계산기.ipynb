{
 "cells": [
  {
   "cell_type": "markdown",
   "id": "b5fd7078",
   "metadata": {},
   "source": [
    "# 합 계산기 (구름톤 3일차)\n",
    "- 난이도: ★\n",
    "- https://level.goorm.io/exam/195685/%ED%95%A9-%EA%B3%84%EC%82%B0%EA%B8%B0/quiz/1"
   ]
  },
  {
   "cell_type": "markdown",
   "id": "a1c6431c",
   "metadata": {},
   "source": [
    "## [문제]\n",
    "\n",
    "보통의 계산기는 한 번에 하나의 계산 결과만 나타낼 수 있다. 그래서 여러 개의 계산 결과가 필요한 경우에는 이전 계산 결과를 따로 기록해 둬야 하는 번거로움이 있었다. 플레이어는 이러한 점을 해결하기 위해서 **합 계산기**를 만들었다. 합 계산기는 여러 개의 계산식을 입력받은 뒤, 각각의 계산 결과를 모두 합해서 출력하는 기능을 가지고 있다. 합 계산기에 입력할 수 있는 계산식은 아래 조건을 만족해야 한다.\n",
    "\n",
    "- 계산식은 ```<정수> <연산 기호> <정수>``` 형태이다.\n",
    "- ```<연산 기호>```에는 더하기, 빼기, 곱하기, 나누기의 네 가지 사칙 연산 기호가 들어갈 수 있다. 이때, 나눗셈 결과의 나머지는 버린다.\n",
    "\n",
    "합 계산기에 입력할 $T$개의 계산식이 주어질 때, 합 계산기의 출력 결과를 구해보자."
   ]
  },
  {
   "cell_type": "markdown",
   "id": "155aef63",
   "metadata": {},
   "source": [
    "## [입력]\n",
    "\n",
    "첫째 줄에 식의 개수 $T$가 주어진다.\n",
    "\n",
    "다음 $T$개의 줄에는 계산식이 주어진다.\n",
    "\n",
    "- $1 \\le T \\le 100$\n",
    "- 계산식은 ```<정수> <연산 기호> <정수>``` 형태로 주어진다.\n",
    "- ```<정수>```에는 $1$ 이상 $1,000$ 이하의 정수가 주어진다.\n",
    "- ```<연산 기호>```에는 ```+```, ```-```, ```*```, ```/``` 중 하나의 문자가 주어진다. 각각 더하기, 빼기, 곱하기, 나누기 기호를 의미한다."
   ]
  },
  {
   "cell_type": "markdown",
   "id": "d7e46e9e",
   "metadata": {},
   "source": [
    "## [출력]\n",
    "\n",
    "합 계산기가 계산한 결과를 출력하시오."
   ]
  },
  {
   "cell_type": "markdown",
   "id": "36e6a7fe",
   "metadata": {},
   "source": [
    "## [예시]\n",
    "\n",
    "**예시 1**\n",
    "\n",
    "입력\n",
    "```python\n",
    "3\n",
    "1 + 3\n",
    "4 / 3\n",
    "3 - 2\n",
    "```\n",
    "\n",
    "출력\n",
    "```python\n",
    "6\n",
    "```\n",
    "\n",
    "**예시 2**\n",
    "\n",
    "입력\n",
    "```python\n",
    "3\n",
    "3 - 4\n",
    "4 / 5\n",
    "5 * 1\n",
    "```\n",
    "\n",
    "출력\n",
    "```python\n",
    "4\n",
    "```"
   ]
  },
  {
   "cell_type": "code",
   "execution_count": 2,
   "id": "c60d6376",
   "metadata": {
    "ExecuteTime": {
     "end_time": "2023-08-17T15:50:39.062824Z",
     "start_time": "2023-08-17T15:50:31.106881Z"
    }
   },
   "outputs": [
    {
     "name": "stdout",
     "output_type": "stream",
     "text": [
      "3\n",
      "3 - 4\n",
      "4 / 5\n",
      "5 * 1\n",
      "4\n"
     ]
    }
   ],
   "source": [
    "# My Solution\n",
    "\n",
    "t = int(input())\n",
    "answer = 0\n",
    "\n",
    "for _ in range(t):\n",
    "    oper = input().split()\n",
    "    if oper[1] == '+':\n",
    "        answer += int(oper[0]) + int(oper[2])\n",
    "    elif oper[1] == '-':\n",
    "        answer += int(oper[0]) - int(oper[2])\n",
    "    elif oper[1] == '*':\n",
    "        answer += int(oper[0]) * int(oper[2])\n",
    "    else:\n",
    "        answer += int(oper[0]) // int(oper[2])\n",
    "\n",
    "print(answer)"
   ]
  },
  {
   "cell_type": "markdown",
   "id": "75a13709",
   "metadata": {},
   "source": [
    "## [후기]\n",
    "\n",
    "어떤 연산 기호인지에 따라 각 연산을 진행해 주기만 하면 되는 간단한 문제였다. 나눗셈의 경우에서만 조금 생각해야 할 것이 있었는데 바로 **몫 연산자**를 이용해야만 했던 것. 문제에서 나눗셈 결과의 나머지는 버린다는 말이 있었기 때문이다. 그거 외엔 뭐 별도로 덧붙일 말이 생각 안 날 정도로 간단하게 풀었던 문제다."
   ]
  }
 ],
 "metadata": {
  "kernelspec": {
   "display_name": "Python 3 (ipykernel)",
   "language": "python",
   "name": "python3"
  },
  "language_info": {
   "codemirror_mode": {
    "name": "ipython",
    "version": 3
   },
   "file_extension": ".py",
   "mimetype": "text/x-python",
   "name": "python",
   "nbconvert_exporter": "python",
   "pygments_lexer": "ipython3",
   "version": "3.9.16"
  }
 },
 "nbformat": 4,
 "nbformat_minor": 5
}
