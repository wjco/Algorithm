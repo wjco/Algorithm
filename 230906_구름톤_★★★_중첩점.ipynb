{
 "cells": [
  {
   "cell_type": "markdown",
   "id": "b5fd7078",
   "metadata": {},
   "source": [
    "# 중첩 점 (구름톤 18일차)\n",
    "- 난이도: ★★★\n",
    "- https://level.goorm.io/exam/195700/%EC%A4%91%EC%B2%A9-%EC%A0%90/quiz/1"
   ]
  },
  {
   "cell_type": "markdown",
   "id": "a1c6431c",
   "metadata": {},
   "source": [
    "## [문제]\n",
    "\n",
    "한 변의 길이가 $N$인 정사각형이 있다. 플레이어는 이 정사각형 위에 $M$개의 반직선을 그린 뒤, 두 반직선이 교차하는 점의 개수를 세려고 한다. 플레이어가 반직선을 그리는 과정은 아래와 같다.\n",
    "\n",
    "1. 반직선을 그리기 시작할 칸 $(y, x)$를 정한다. $(y, x)$는 주어진 정사각형을 $1 \\times 1$ 크기의 정사각형으로 나눴을 때, $y$번째 행의 $x$번째 열에 해당하는 칸이다.\n",
    "2. 반직선을 그릴 방향 $d$를 정한다. 방향은 상하좌우 중 하나이며, 항상 정사각형 테두리의 가로 혹은 세로와 평행하다.\n",
    "3. 반직선을 그린다. 반직선은 항상 시작 칸의 테두리에서부터 시작하며, 같은 칸을 지나는 평행한 직선이 서로 만나지 않도록 그린다.\n",
    "\n",
    "아래 그림은 길이가 $4$인 정사각형 위에 다음 세 개의 직선을 그린 그림이다.\n",
    "- $(3, 2)$, 오른쪽 / $(3, 3)$, 왼쪽 / $(3, 2)$, 위쪽"
   ]
  },
  {
   "cell_type": "markdown",
   "id": "711b26c1",
   "metadata": {},
   "source": [
    "$(3, 2)$ 칸과 $(3, 3)$ 칸을 지나는 두 개의 가로 반직선이 있지만, 두 반직선은 서로 평행하기 때문에 중첩 점이 생기지 않는다. 그러나 $(3, 2)$ 칸을 지나는 세로 반직선과 두 반직선은 교차하므로 결과적으로는 두 개의 **중첩 점**이 생긴다.\n",
    "\n",
    "플레이어가 모든 반직선을 그린 뒤 생기는 중첩 점의 개수를 구해보자."
   ]
  },
  {
   "cell_type": "markdown",
   "id": "ecf84fdb",
   "metadata": {},
   "source": [
    "## [예제 설명]\n",
    "\n",
    "첫 번째 예제를 그림으로 나타내면 아래와 같이 **여섯 개**의 중첩 점이 생긴다."
   ]
  },
  {
   "cell_type": "markdown",
   "id": "155aef63",
   "metadata": {},
   "source": [
    "## [입력]\n",
    "\n",
    "첫째 줄에 정사각형의 크기 $N$과 그리려는 반직선의 개수 $M$이 공백을 두고 주어진다.\n",
    "\n",
    "다음 $M$개의 줄에는 플레이어가 그을 반직선의 정보를 나타내는 $y_i , x_i, d_i$가 공백을 두고 주어진다. $(y_i , x_i)$ 칸에서 시작해 $d_i$ 방향으로 반직선을 긋는다는 의미이다.\n",
    "\n",
    "- $1 \\le N \\le 100$\n",
    "- $1 \\le M \\le 100,000$\n",
    "- $1 \\le x_i , y_i \\le N$\n",
    "- $d_i$는 ```U```, ```D```, ```L```, ```R```의 네 문자 중 하나이다. 각각 상하좌우 방향을 의미한다."
   ]
  },
  {
   "cell_type": "markdown",
   "id": "d7e46e9e",
   "metadata": {},
   "source": [
    "## [출력]\n",
    "\n",
    "모든 반직선을 그렸을 때, 중첩 점의 개수를 출력하시오."
   ]
  },
  {
   "cell_type": "markdown",
   "id": "36e6a7fe",
   "metadata": {},
   "source": [
    "## [예시]\n",
    "\n",
    "**예시 1**\n",
    "\n",
    "입력\n",
    "```\n",
    "3 5\n",
    "2 1 R\n",
    "1 1 D\n",
    "2 3 L\n",
    "3 3 U\n",
    "2 2 D\n",
    "```\n",
    "\n",
    "출력\n",
    "```\n",
    "6\n",
    "```\n",
    "\n",
    "**예시 2**\n",
    "\n",
    "입력\n",
    "```\n",
    "3 3\n",
    "2 2 R\n",
    "2 2 L\n",
    "1 2 D\n",
    "```\n",
    "\n",
    "출력\n",
    "```\n",
    "2\n",
    "```"
   ]
  },
  {
   "cell_type": "code",
   "execution_count": 1,
   "id": "dd21be81",
   "metadata": {
    "ExecuteTime": {
     "end_time": "2023-09-06T06:55:55.294642Z",
     "start_time": "2023-09-06T06:55:45.750165Z"
    },
    "scrolled": true
   },
   "outputs": [
    {
     "name": "stdout",
     "output_type": "stream",
     "text": [
      "3 5\n",
      "2 1 R\n",
      "1 1 D\n",
      "2 3 L\n",
      "3 3 U\n",
      "2 2 D\n",
      "6\n"
     ]
    }
   ],
   "source": [
    "# My Solution\n",
    "n, m = map(int, input().split())\n",
    "squares = [[[0, 0] for _ in range(n)] for __ in range(n)] #[가로, 세로]\n",
    "for _ in range(m):\n",
    "    y, x, d = input().split()\n",
    "    y, x = int(y) - 1, int(x) - 1\n",
    "    if d == 'U':\n",
    "        while True: #위쪽 방향 모든 칸에 세로 줄 추가\n",
    "            if y < 0 or y >= n:\n",
    "                break\n",
    "            squares[y][x][1] += 1\n",
    "            y -= 1\n",
    "    elif d == 'D': #아래쪽 방향 모든 칸에 세로 줄 추가\n",
    "        while True:\n",
    "            if y < 0 or y >= n:\n",
    "                break\n",
    "            squares[y][x][1] += 1\n",
    "            y += 1\n",
    "    elif d == 'L': #왼쪽 방향 모든 칸에 가로 줄 추가\n",
    "        while True:\n",
    "            if x < 0 or x >= n:\n",
    "                break\n",
    "            squares[y][x][0] += 1\n",
    "            x -= 1\n",
    "    elif d == 'R': #오른쪽 방향 모든 칸에 가로 줄 추가\n",
    "        while True:\n",
    "            if x < 0 or x >= n:\n",
    "                break\n",
    "            squares[y][x][0] += 1\n",
    "            x += 1\n",
    "\n",
    "answer = 0\n",
    "for row in squares:\n",
    "    for element in row:\n",
    "        answer += element[0] * element[1] #교점의 개수 = 가로 줄 개수 * 세로 줄 개수\n",
    "\n",
    "print(answer)"
   ]
  },
  {
   "cell_type": "markdown",
   "id": "74f11137",
   "metadata": {},
   "source": [
    "## [후기]\n",
    "\n",
    "반직선을 한 줄씩 받을 때마다 ```squares``` 리스트에 저장하도록 했다. 이때 가로 줄과 세로 줄을 따로 받도록 했다. 그렇게 한 이유는 추후에 교점의 개수를 구할 때 한 사각형 안에 존재하는 **가로 줄의 개수와 세로 줄의 개수를 곱해주면** 되기 때문이다."
   ]
  }
 ],
 "metadata": {
  "kernelspec": {
   "display_name": "Python 3 (ipykernel)",
   "language": "python",
   "name": "python3"
  },
  "language_info": {
   "codemirror_mode": {
    "name": "ipython",
    "version": 3
   },
   "file_extension": ".py",
   "mimetype": "text/x-python",
   "name": "python",
   "nbconvert_exporter": "python",
   "pygments_lexer": "ipython3",
   "version": "3.9.16"
  }
 },
 "nbformat": 4,
 "nbformat_minor": 5
}
