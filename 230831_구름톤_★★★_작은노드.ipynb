{
 "cells": [
  {
   "cell_type": "markdown",
   "id": "b5fd7078",
   "metadata": {},
   "source": [
    "# 작은 노드 (구름톤 14일차)\n",
    "- 난이도: ★★★\n",
    "- https://level.goorm.io/exam/195696/%EC%9E%91%EC%9D%80-%EB%85%B8%EB%93%9C/quiz/1"
   ]
  },
  {
   "cell_type": "markdown",
   "id": "a1c6431c",
   "metadata": {},
   "source": [
    "## [문제]\n",
    "\n",
    "$N$개의 노드와 $M$개의 양방향 간선으로 이루어진 그래프가 있다. 이 그래프의 노드는 $1$번부터 $N$번까지 번호가 붙어 있다. 양끝 노드가 동일한 간선은 주어지지 않는다.\n",
    "\n",
    "플레이어는 아래 규칙에 따라 그래프에서 이동하려고 한다. 플레이어는 처음에 $K$번 노드에 있다.\n",
    "\n",
    "- 한 번 방문한 노드는 다시 방문할 수 없다. 시작 노드도 방문한 것으로 간주한다.\n",
    "- 현재 노드와 간선으로 직접 연결된 다른 노드 중, **방문할 수 있으면서 번호가 가장 작은 노드**로 이동한다.\n",
    "\n",
    "플레이어가 더 이상 이동할 수 있는 노드가 없을 때, 방문한 서로 다른 노드의 개수와 마지막 노드 번호를 구해보자."
   ]
  },
  {
   "cell_type": "markdown",
   "id": "155aef63",
   "metadata": {},
   "source": [
    "## [입력]\n",
    "\n",
    "첫째 줄에 노드의 개수 $N$, 간선의 개수 $M$, 시작 노드의 번호 $K$가 공백을 두고 주어진다.\n",
    "\n",
    "다음 $M$개의 줄에는 간선이 잇는 양끝 정점의 번호 $s_i, e_i$가 공백을 두고 주어진다.\n",
    "\n",
    "- $1 \\le N \\le 2,000$\n",
    "- $1 \\le M \\le 200,000$\n",
    "- $1 \\le K \\le N$\n",
    "- $1 \\le s_i, e_i \\le N$ ; $s_i \\neq e_i$"
   ]
  },
  {
   "cell_type": "markdown",
   "id": "d7e46e9e",
   "metadata": {},
   "source": [
    "## [출력]\n",
    "\n",
    "플레이어가 더 이상 이동할 수 없을 때까지 방문한 노드의 개수와 마지막 노드의 번호를 출력한다."
   ]
  },
  {
   "cell_type": "markdown",
   "id": "36e6a7fe",
   "metadata": {},
   "source": [
    "## [예시]\n",
    "\n",
    "**예시 1**\n",
    "\n",
    "입력\n",
    "```\n",
    "6 6 1\n",
    "1 2\n",
    "1 3\n",
    "2 3\n",
    "3 4\n",
    "3 5\n",
    "4 6\n",
    "```\n",
    "\n",
    "출력\n",
    "```\n",
    "5 6\n",
    "```\n",
    "\n",
    "**예시 2**\n",
    "\n",
    "입력\n",
    "```\n",
    "6 5 1\n",
    "1 2\n",
    "2 3\n",
    "3 4\n",
    "4 5\n",
    "5 6\n",
    "```\n",
    "\n",
    "출력\n",
    "```\n",
    "6 6\n",
    "```\n",
    "\n",
    "**예시 3**\n",
    "\n",
    "입력\n",
    "```\n",
    "6 5 1\n",
    "2 3\n",
    "3 2\n",
    "6 2\n",
    "4 2\n",
    "4 3\n",
    "```\n",
    "\n",
    "출력\n",
    "```\n",
    "1 1\n",
    "```"
   ]
  },
  {
   "cell_type": "code",
   "execution_count": 2,
   "id": "4eebdd8f",
   "metadata": {
    "ExecuteTime": {
     "end_time": "2023-08-31T06:49:08.081472Z",
     "start_time": "2023-08-31T06:48:57.146758Z"
    }
   },
   "outputs": [
    {
     "name": "stdout",
     "output_type": "stream",
     "text": [
      "6 5 1\n",
      "2 3\n",
      "3 2\n",
      "6 2\n",
      "4 2\n",
      "4 3\n",
      "1 1\n"
     ]
    }
   ],
   "source": [
    "# My Solution\n",
    "\n",
    "def visit_nodes(this_node, connections, visited):\n",
    "    '''\n",
    "    간선을 따라 노드를 방문하는 함수\n",
    "    '''\n",
    "    stack = [this_node]\n",
    "    \n",
    "    while(stack): #DFS 방식으로 탐색\n",
    "        now = stack.pop()\n",
    "        visited[now - 1] = 1 #방문 위치 기록\n",
    "        for next_node in sorted(connections[now]): #숫자 오름차순으로 정렬\n",
    "            if not visited[next_node - 1]:\n",
    "                stack.append(next_node) #방문 안 한 곳을 찾아서 스택에 저장\n",
    "                break\n",
    "    \n",
    "    return sum(visited), now\n",
    "\n",
    "n, m, k = map(int, input().split())\n",
    "connections = {i: [] for i in range(1, n + 1)} #간선을 노드 기준으로 저장하는 딕셔너리\n",
    "for _ in range(m):\n",
    "    s, e = map(int, input().split())\n",
    "    connections[s].append(e)\n",
    "    connections[e].append(s) #양방향으로 저장\n",
    "\n",
    "visited_nodes_num, final_node = visit_nodes(k, connections, [0 for _ in range(n)])\n",
    "print(visited_nodes_num, final_node)"
   ]
  },
  {
   "cell_type": "markdown",
   "id": "74f11137",
   "metadata": {},
   "source": [
    "## [후기]\n",
    "\n",
    "DFS로 간선을 탐색하도록 했다. 현재 위치에서 이동할 수 있는 간선이 있을 때 조건에 맞는 도착 노드를 단 하나만 스택에 담은 뒤 ```break```하도록 했고, 만약 조건에 맞는 노드가 없는 경우에는 스택이 비게 되므로 해당 위치에서 함수가 종료되도록 했다.\n",
    "\n",
    "지난 문제들과 마찬가지로 재귀가 아닌 **스택 형식**으로 구현했다. 오히려 이전 문제들보다 난이도가 쉬워진 것 같다...!"
   ]
  }
 ],
 "metadata": {
  "kernelspec": {
   "display_name": "Python 3 (ipykernel)",
   "language": "python",
   "name": "python3"
  },
  "language_info": {
   "codemirror_mode": {
    "name": "ipython",
    "version": 3
   },
   "file_extension": ".py",
   "mimetype": "text/x-python",
   "name": "python",
   "nbconvert_exporter": "python",
   "pygments_lexer": "ipython3",
   "version": "3.9.16"
  }
 },
 "nbformat": 4,
 "nbformat_minor": 5
}
