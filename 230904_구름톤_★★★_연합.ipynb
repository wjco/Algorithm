{
 "cells": [
  {
   "cell_type": "markdown",
   "id": "b5fd7078",
   "metadata": {},
   "source": [
    "# 연합 (구름톤 16일차)\n",
    "- 난이도: ★★★\n",
    "- https://level.goorm.io/exam/195698/%EC%97%B0%ED%95%A9/quiz/1"
   ]
  },
  {
   "cell_type": "markdown",
   "id": "a1c6431c",
   "metadata": {},
   "source": [
    "## [문제]\n",
    "\n",
    "바다 위에 $N$개의 섬이 있다. 섬은 $1$번부터 $N$번까지 차례대로 번호가 붙어 있다. 서로 다른 두 섬 사이를 연결하는 $M$개의 다리도 있다. 모든 다리는 단방향으로만 이동 가능하고, 어떤 두 섬 사이를 잇는 다리는 정방향 하나, 역방향 하나씩 해서 최대 두 개이다.\n",
    "\n",
    "어느 날, 섬들 사이에 분쟁이 일어났다. 모든 섬들은 세력을 키우기 위해 다른 섬과 연합을 결성하려고 한다. 임의의 두 섬 $a$와 $b$에 대해, $a$번 섬에서 $b$번 섬으로 **직접** 이동할 수 있는 다리와 $b$번 섬에서 $a$번 섬으로 **직접** 이동할 수 있는 다리가 있으면, 두 섬은 연합을 결성한다.\n",
    "\n",
    "이때, $a$와 $b$가 연합을 결성하고 $b$와 $c$가 연합을 결성했다면 $a$와 $c$ 역시 위 조건을 만족하지 않더라도 같은 연합에 속해있는 것으로 본다.\n",
    "\n",
    "다른 섬과 연합을 결성하지 않은 섬들도 각각 하나의 연합에 속해 있는 것으로 볼 때, $N$개의 섬 사이에 존재하는 연합의 개수를 구해보자."
   ]
  },
  {
   "cell_type": "markdown",
   "id": "ecf84fdb",
   "metadata": {},
   "source": [
    "## [예제 설명]\n",
    "\n",
    "첫 번째 예제에서는 정의에 따라 **1번 섬**과 **4번 섬**이 연합을 결성한다. 이외에 연합을 결성하는 다른 섬 쌍은 존재하지 않는다. 따라서 **[1, 4]**, **[2]**, **[3]** 세 개의 연합이 존재하므로, **3**을 출력해야 한다.\n",
    "\n",
    "두 번째 예제에서는 정의에 따라 **1번 섬**과 **2번 섬**, **1번 섬**과 **3번 섬**, **2번 섬**과 **3번 섬**이 연합을 결성한다. 따라서 **[1, 2, 3]** 한 개의 연합이 존재하므로, **1**을 출력해야 한다."
   ]
  },
  {
   "cell_type": "markdown",
   "id": "155aef63",
   "metadata": {},
   "source": [
    "## [입력]\n",
    "\n",
    "첫째 줄에 섬의 개수 $N$과 다리의 개수 $M$이 공백을 두고 주어진다.\n",
    "\n",
    "다음 $M$개의 줄에는 $s_i , e_i$가 공백을 두고 주어진다. $s_i$번 섬에서 $e_i$번 섬으로 가는 다리가 있다는 의미이다.\n",
    "\n",
    "- $2 \\le N \\le 2,000$\n",
    "- $1 \\le M \\le 200,000$\n",
    "- $1 \\le s_i , e_i \\le N$ ; $s \\neq e$\n",
    "- 주어지는 모든 수는 정수이다."
   ]
  },
  {
   "cell_type": "markdown",
   "id": "d7e46e9e",
   "metadata": {},
   "source": [
    "## [출력]\n",
    "\n",
    "$N$개의 섬 사이에 존재하는 연합의 개수를 출력한다."
   ]
  },
  {
   "cell_type": "markdown",
   "id": "36e6a7fe",
   "metadata": {},
   "source": [
    "## [예시]\n",
    "\n",
    "**예시 1**\n",
    "\n",
    "입력\n",
    "```\n",
    "4 6\n",
    "2 3\n",
    "4 1\n",
    "1 2\n",
    "3 4\n",
    "1 4\n",
    "2 4\n",
    "```\n",
    "\n",
    "출력\n",
    "```\n",
    "3\n",
    "```\n",
    "\n",
    "**예시 2**\n",
    "\n",
    "입력\n",
    "```\n",
    "3 6\n",
    "1 2\n",
    "1 3\n",
    "2 1\n",
    "2 3\n",
    "3 1\n",
    "3 2\n",
    "```\n",
    "\n",
    "출력\n",
    "```\n",
    "1\n",
    "```"
   ]
  },
  {
   "cell_type": "code",
   "execution_count": 1,
   "id": "4eebdd8f",
   "metadata": {
    "ExecuteTime": {
     "end_time": "2023-09-04T07:59:46.919923Z",
     "start_time": "2023-09-04T07:59:35.335910Z"
    }
   },
   "outputs": [
    {
     "name": "stdout",
     "output_type": "stream",
     "text": [
      "4 6\n",
      "2 3\n",
      "4 1\n",
      "1 2\n",
      "3 4\n",
      "1 4\n",
      "2 4\n",
      "3\n"
     ]
    }
   ],
   "source": [
    "# My Solution\n",
    "\n",
    "def find_union(start, unions, visited):\n",
    "    '''\n",
    "    연합 정보를 넘겨받아 하나의 연합 구성원을 체크한 뒤 반환하는 함수.\n",
    "    함수가 한 번 돌 때마다 연합이 한 개 있는 것으로 고려할 수 있다.\n",
    "    '''\n",
    "    stack = [start]\n",
    "    while stack:\n",
    "        now = stack.pop()\n",
    "        visited[now - 1] = 1\n",
    "        for union in unions[now]:\n",
    "            if not visited[union - 1]:\n",
    "                stack.append(union)\n",
    "                visited[union - 1] = 1\n",
    "    return visited\n",
    "\n",
    "n, m = map(int, input().split())\n",
    "bridges = {i: [] for i in range(1, n + 1)}\n",
    "unions = {i: [] for i in range(1, n + 1)}\n",
    "\n",
    "# 다리 체크하여 연합 결성\n",
    "for _ in range(m):\n",
    "    s, e = map(int, input().split())\n",
    "    bridges[s].append(e)\n",
    "    if s in bridges[e]: #양방향이면 연합 결성\n",
    "        unions[s].append(e)\n",
    "        unions[e].append(s)\n",
    "\n",
    "# 연합 개수\n",
    "visited = [0 for _ in range(n)]\n",
    "answer = 0\n",
    "for i in range(1, n + 1):\n",
    "    if not visited[i - 1]:\n",
    "        visited = find_union(i, unions, visited)\n",
    "        answer += 1\n",
    "\n",
    "print(answer)"
   ]
  },
  {
   "cell_type": "markdown",
   "id": "74f11137",
   "metadata": {},
   "source": [
    "## [후기]\n",
    "\n",
    "이 문제의 관건은 두 개였다. **양방향 간선**이 놓여진 섬을 파악하는 것이 첫 번째, 그리고 **연합이 몇 묶음인지 확인**하는 것이 두 번째였다.\n",
    "\n",
    "첫 번째는 크게 어렵지 않았다. 시작점과 끝점을 받을 때마다 반대의 케이스가 있는지 체크한 뒤, 있다면 연합이라고 판별해 버리면 되기 때문이다. 그렇게 판별하여 ```unions```에 저장하도록 했다.\n",
    "\n",
    "두 번째가 조금 까다로웠는데, $a$와 $b$가 연합이고 $b$와 $c$가 연합일 때 $a, b, c$를 한 묶음으로 봐야 하는 게 골치아팠다. 단순히 이 케이스까지는 적당히 처리할 수 있었지만 [1, 2], [3, 4]의 상황에서 2와 3이 연합이라고 판명되었다면 기존에 두 묶음이었던 연합이 한 묶음으로 간주되어야 하는 상황이 생겨서 곤란했다. 그래서 내린 결론은 ```unions```를 만드는 과정과 연합의 개수를 세는 과정을 분리하여 생각하는 것이었다. 최초에는 ```unions```를 연합 단위로 리스트로 묶어서 이중 리스트의 형태로 구현한 뒤 ```len()```으로 해결하려고 했는데 그게 잘못된 발상이었음을 깨달은 뒤 엎어버렸다.\n",
    "\n",
    "연합의 개수를 세는 것은 구름톤 챌린지에서 몇 번 구현하는지 모르겠는 **스택 방식 DFS**를 이용했다. 한 번 함수에 들어갈 때마다 하나의 연합을 찾아내게끔 했고, 그럴 때마다 1씩 세어가면서 최종 답을 출력했다.\n",
    "\n",
    "약간 까다로웠긴 했지만 아직 이 정도면 풀 만하다!"
   ]
  }
 ],
 "metadata": {
  "kernelspec": {
   "display_name": "Python 3 (ipykernel)",
   "language": "python",
   "name": "python3"
  },
  "language_info": {
   "codemirror_mode": {
    "name": "ipython",
    "version": 3
   },
   "file_extension": ".py",
   "mimetype": "text/x-python",
   "name": "python",
   "nbconvert_exporter": "python",
   "pygments_lexer": "ipython3",
   "version": "3.9.16"
  }
 },
 "nbformat": 4,
 "nbformat_minor": 5
}
