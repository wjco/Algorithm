{
 "cells": [
  {
   "cell_type": "markdown",
   "id": "b5fd7078",
   "metadata": {},
   "source": [
    "# 완벽한 햄버거 만들기 (구름톤 4일차)\n",
    "- 난이도: ★★\n",
    "- https://level.goorm.io/exam/195686/%EC%99%84%EB%B2%BD%ED%95%9C-%ED%96%84%EB%B2%84%EA%B1%B0-%EB%A7%8C%EB%93%A4%EA%B8%B0/quiz/1"
   ]
  },
  {
   "cell_type": "markdown",
   "id": "a1c6431c",
   "metadata": {},
   "source": [
    "## [문제]\n",
    "\n",
    "구름 햄버거는 다양한 재료를 사용하여 맛있기로 유명하다. 구름 햄버거는 $N$개의 재료를 순서대로 쌓아서 만들고, 구름 햄버거의 맛은 사용된 모든 재료의 맛의 정도를 더한 값이다.\n",
    "\n",
    "완벽한 구름 햄버거를 만들기 위해서는 맛의 정도가 가장 높은 재료를 기준으로 위랑 아래로 갈수록 재료의 맛의 정도가 감소하거나 같아야 한다.\n",
    "\n",
    "플레이어는 $N$개의 재료를 순서대로 쌓아서 구름 햄버거를 하나 만들었다. $i$번째로 쌓은 재료의 맛의 정도가 $k_i$라고 할 때, 플레이어가 만든 구름 햄버거의 맛을 구해보자. 만약 플레이어가 완벽하지 않은 구름 햄버거를 만들었다면 ```0```을 출력한다."
   ]
  },
  {
   "cell_type": "markdown",
   "id": "155aef63",
   "metadata": {},
   "source": [
    "## [입력]\n",
    "\n",
    "첫째 줄에 구름 햄버거에 들어가는 재료의 개수 $N$이 주어진다.\n",
    "\n",
    "그 다음 줄에 플레이어가 햄버거를 만들 때 쓴 재료의 맛의 정도 $k_1, ... , k_N$가 공백을 두고 주어진다.\n",
    "\n",
    "- $1 \\le N \\le 1,000$\n",
    "- $1 \\le k_i \\le 10^6$\n",
    "- 입력에서 주어지는 모든 수는 정수이다."
   ]
  },
  {
   "cell_type": "markdown",
   "id": "d7e46e9e",
   "metadata": {},
   "source": [
    "## [출력]\n",
    "\n",
    "플레이어가 만든 구름 햄버거의 맛을 출력한다. 만약 플레이어가 완벽하지 않은 구름 햄버거를 만들었다면 ```0```을 출력한다."
   ]
  },
  {
   "cell_type": "markdown",
   "id": "36e6a7fe",
   "metadata": {},
   "source": [
    "## [예시]\n",
    "\n",
    "**예시 1**\n",
    "\n",
    "입력\n",
    "```python\n",
    "5\n",
    "1 2 3 3 1\n",
    "```\n",
    "\n",
    "출력\n",
    "```python\n",
    "10\n",
    "```\n",
    "\n",
    "**예시 2**\n",
    "\n",
    "입력\n",
    "```python\n",
    "7\n",
    "1 2 3 5 2 3 1\n",
    "```\n",
    "\n",
    "출력\n",
    "```python\n",
    "0\n",
    "```"
   ]
  },
  {
   "cell_type": "code",
   "execution_count": 2,
   "id": "c60d6376",
   "metadata": {
    "ExecuteTime": {
     "end_time": "2023-08-17T16:10:23.556477Z",
     "start_time": "2023-08-17T16:10:21.654356Z"
    }
   },
   "outputs": [
    {
     "name": "stdout",
     "output_type": "stream",
     "text": [
      "5\n",
      "1 2 3 3 1\n",
      "10\n"
     ]
    }
   ],
   "source": [
    "# My Solution\n",
    "\n",
    "n = int(input())\n",
    "ks = list(map(int, input().split()))\n",
    "\n",
    "before, now = ks[0], ks[0]\n",
    "answer = 0\n",
    "is_perfect = True\n",
    "passed_high = False\n",
    "\n",
    "for k in ks:\n",
    "    before, now = now, k\n",
    "    if not passed_high:\n",
    "        if now < before:\n",
    "            answer += k\n",
    "            passed_high = True\n",
    "            continue\n",
    "        else:\n",
    "            answer += k\n",
    "    else:\n",
    "        if now > before:\n",
    "            is_perfect = False\n",
    "            break\n",
    "        else:\n",
    "            answer += k\n",
    "    \n",
    "print(answer) if is_perfect else print(0)"
   ]
  },
  {
   "cell_type": "markdown",
   "id": "75a13709",
   "metadata": {},
   "source": [
    "## [후기]\n",
    "\n",
    "이전까지의 문제들보다 조금 생각할 거리들이 생겼다.\n",
    "\n",
    "가운데의 극대점을 기준으로 그 이전에는 증가, 그 이후에는 감소하는 형태인지를 확인해야 하는 문제다. 물론 맨 처음이나 맨 끝이 극대점일 수도 있다. 그렇기 때문에 우선 **처음에는 증가하는 형태인지를 체크하고, 어긋남을 확인한 즉시 감소 체킹으로 전환**하도록 했다. 감소 체킹 중에 다시 어긋남을 발견하면 완벽한 햄버거가 아니기 때문에 반복문을 ```break```하고 나오도록 했다.\n",
    "\n",
    "지금 내 코드에서 개선할 부분은? 아마도 ```before```, ```now``` 두 변수를 제거하여 작성할 수 있을 것이다. 예를 들어 리스트의 인덱싱을 이용하는 방법. 반복문을 ```for i in range(len(ks))```로 돌리는 거다. 앞에 거랑 지금 거를 비교하는 거니까 ```i != 0```일 때 ```ks[i - 1]```과 ```ks[i]```를 비교하는 식으로 하면 굳이 지금처럼 ```before```과 ```now``` 변수를 만들 필요가 없다. 아래는 그 예시다."
   ]
  },
  {
   "cell_type": "code",
   "execution_count": 3,
   "id": "7ecb750f",
   "metadata": {
    "ExecuteTime": {
     "end_time": "2023-08-17T16:22:55.141169Z",
     "start_time": "2023-08-17T16:22:49.326295Z"
    }
   },
   "outputs": [
    {
     "name": "stdout",
     "output_type": "stream",
     "text": [
      "5\n",
      "1 2 3 3 1\n",
      "10\n"
     ]
    }
   ],
   "source": [
    "# My Solution (2)\n",
    "\n",
    "n = int(input())\n",
    "ks = list(map(int, input().split()))\n",
    "\n",
    "answer = 0\n",
    "is_perfect = True\n",
    "passed_high = False\n",
    "\n",
    "for i in range(len(ks)):\n",
    "    if not passed_high:\n",
    "        if i != 0 and ks[i] < ks[i - 1]:\n",
    "            answer += ks[i]\n",
    "            passed_high = True\n",
    "            continue\n",
    "        else:\n",
    "            answer += ks[i]\n",
    "    else:\n",
    "        if i != 0 and ks[i] > ks[i - 1]:\n",
    "            is_perfect = False\n",
    "            break\n",
    "        else:\n",
    "            answer += ks[i]\n",
    "    \n",
    "print(answer) if is_perfect else print(0)"
   ]
  }
 ],
 "metadata": {
  "kernelspec": {
   "display_name": "Python 3 (ipykernel)",
   "language": "python",
   "name": "python3"
  },
  "language_info": {
   "codemirror_mode": {
    "name": "ipython",
    "version": 3
   },
   "file_extension": ".py",
   "mimetype": "text/x-python",
   "name": "python",
   "nbconvert_exporter": "python",
   "pygments_lexer": "ipython3",
   "version": "3.9.16"
  }
 },
 "nbformat": 4,
 "nbformat_minor": 5
}
