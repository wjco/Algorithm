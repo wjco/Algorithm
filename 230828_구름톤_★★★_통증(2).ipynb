{
 "cells": [
  {
   "cell_type": "markdown",
   "id": "b5fd7078",
   "metadata": {},
   "source": [
    "# 통증 (2) (구름톤 11일차)\n",
    "- 난이도: ★★★\n",
    "- https://level.goorm.io/exam/195693/%ED%86%B5%EC%A6%9D-2/quiz/1"
   ]
  },
  {
   "cell_type": "markdown",
   "id": "a1c6431c",
   "metadata": {},
   "source": [
    "## [문제]\n",
    "\n",
    "구름-그라운드 게임에는 **통증**이라는 시스템이 있다. 통증 수치가 높다면 게임에서 승리하기 어려워지므로, 아이템을 적절히 사용해 통증 수치를 $0$으로 유지하는 것이 중요하다.\n",
    "\n",
    "게임 안에는 통증 수치를 감소시켜 주는 아이템이 $2$종류가 있다. 아이템의 이름은 $A$, $B$이고, 각 아이템을 사용 시 $A_p$, $B_p$만큼 통증 수치를 감소시켜 준다. 각 아이템은 원하는 만큼 획득할 수 있다.\n",
    "\n",
    "플레이어는 적과의 전투에서 피해를 입어 현재 $N$의 통증 수치를 가지고 있다. 플레이어가 통증 수치를 $0$으로 줄이기 위해 필요한 **아이템의 최소 개수**를 구해보자. 단, 사용했을 때 통증 수치가 $0$보다 작아지는 아이템은 사용할 수 없음에 유의하시오."
   ]
  },
  {
   "cell_type": "markdown",
   "id": "155aef63",
   "metadata": {},
   "source": [
    "## [입력]\n",
    "\n",
    "첫째 줄에 플레이어의 통증 수치를 나타내는 정수 $N$이 주어진다.\n",
    "\n",
    "둘째 줄에 아이템 $A, B$가 줄일 수 있는 통증 수치 $A_p, B_p$가 공백을 두고 주어진다.\n",
    "\n",
    "- $2 \\le N \\le 10^6$\n",
    "- $2 \\le A_p < B_p \\le 13$\n",
    "- $A_p$와 $B_p$는 배수 관계가 아니다."
   ]
  },
  {
   "cell_type": "markdown",
   "id": "d7e46e9e",
   "metadata": {},
   "source": [
    "## [출력]\n",
    "\n",
    "플레이어가 통증 수치를 $0$으로 줄이기 위해 필요한 **아이템의 최소 개수**를 출력한다.\n",
    "\n",
    "단, 통증 수치를 $0$으로 만들 수 없는 경우에는 ```-1```을 출력한다."
   ]
  },
  {
   "cell_type": "markdown",
   "id": "36e6a7fe",
   "metadata": {},
   "source": [
    "## [예시]\n",
    "\n",
    "**예시 1**\n",
    "\n",
    "입력\n",
    "```\n",
    "11\n",
    "2 7\n",
    "```\n",
    "\n",
    "출력\n",
    "```\n",
    "3\n",
    "```\n",
    "\n",
    "**예시 2**\n",
    "\n",
    "입력\n",
    "```\n",
    "10000\n",
    "4 13\n",
    "```\n",
    "\n",
    "출력\n",
    "```\n",
    "772\n",
    "```\n",
    "\n",
    "**예시 3**\n",
    "\n",
    "입력\n",
    "```\n",
    "10\n",
    "3 5\n",
    "```\n",
    "\n",
    "출력\n",
    "```\n",
    "2\n",
    "```"
   ]
  },
  {
   "cell_type": "code",
   "execution_count": 1,
   "id": "c60d6376",
   "metadata": {
    "ExecuteTime": {
     "end_time": "2023-08-28T04:56:28.301179Z",
     "start_time": "2023-08-28T04:56:25.631919Z"
    }
   },
   "outputs": [
    {
     "name": "stdout",
     "output_type": "stream",
     "text": [
      "10000\n",
      "4 13\n",
      "772\n"
     ]
    }
   ],
   "source": [
    "# My Solution\n",
    "\n",
    "n = int(input())\n",
    "a, b = map(int, input().split())\n",
    "\n",
    "a_num, b_num = 0, 0 #A와 B의 개수\n",
    "is_answer = False #중첩 반복문을 break하기 위한 bool\n",
    "while True:\n",
    "    while True:\n",
    "        if a * a_num + b * b_num == n: #정답을 찾으면 중첩 반복문 break\n",
    "            answer = a_num + b_num\n",
    "            is_answer = True\n",
    "            break\n",
    "        elif a * a_num + b * b_num > n: #b_num이 너무 커지면 b_num을 0으로 초기화\n",
    "            b_num = 0\n",
    "            break\n",
    "        b_num += 1 #b_num을 1씩 올려가면서 체크\n",
    "    if is_answer: #정답을 찾으면 반복문 break\n",
    "        break\n",
    "    elif a * a_num + b * b_num > n: #a_num이 너무 커지면 답이 없으므로 반복문 break\n",
    "        break\n",
    "    a_num += 1 #a_num을 1씩 올려가면서 체크\n",
    "\n",
    "if not(is_answer):\n",
    "    answer = -1\n",
    "    \n",
    "print(answer)"
   ]
  },
  {
   "cell_type": "markdown",
   "id": "f6f9d626",
   "metadata": {},
   "source": [
    "## [후기]\n",
    "\n",
    "처음엔 직접 하나씩 계산해 보는 것보다는 일반화된 규칙을 찾아보려고 했다. 근데 $A$, $B$가 배수가 아닌 상황에서 규칙을 찾아낼 수가 있을까? 곰곰이 생각해 봐도 실마리조차 안 잡혀서 그냥 **일일이 체크하는 과정**을 직접 구현하기로 했다.\n",
    "\n",
    "두 개의 ```while```문을 두고 ```a_num```과 ```b_num```을 1씩 올리면서 ```n```과 일치하는지를 체크하도록 했다. 이때 ```b_num```이 너무 커진 경우 안쪽의 반복문을 ```break```하고 ```a_num += 1, b_num = 0```부터 다시 새로운 체크를 진행하도록 했으며, ```a_num```마저 너무 커지는 상황에서는 답이 없음이 확정되었으므로 ```break```하도록 했다. 답을 찾았는지를 저장하는 ```bool``` 타입의 변수 ```is_break```를 만들어 중첩 반복문 처리와 최종 답 출력을 수행했다.\n",
    "\n",
    "문제에서 정말 의도한 바가 이거였는지는 잘 모르겠는데 어쨌든 나름 깔끔하게 해결했다. 어딘가 약간 찜찜하긴 하다!"
   ]
  }
 ],
 "metadata": {
  "kernelspec": {
   "display_name": "Python 3 (ipykernel)",
   "language": "python",
   "name": "python3"
  },
  "language_info": {
   "codemirror_mode": {
    "name": "ipython",
    "version": 3
   },
   "file_extension": ".py",
   "mimetype": "text/x-python",
   "name": "python",
   "nbconvert_exporter": "python",
   "pygments_lexer": "ipython3",
   "version": "3.9.16"
  }
 },
 "nbformat": 4,
 "nbformat_minor": 5
}
