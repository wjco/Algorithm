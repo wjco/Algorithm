{
 "cells": [
  {
   "cell_type": "markdown",
   "id": "b5fd7078",
   "metadata": {},
   "source": [
    "# 이진수 정렬 (구름톤 5일차)\n",
    "- 난이도: ★★\n",
    "- https://level.goorm.io/exam/195687/%EC%9D%B4%EC%A7%84%EC%88%98-%EC%A0%95%EB%A0%AC/quiz/1"
   ]
  },
  {
   "cell_type": "markdown",
   "id": "a1c6431c",
   "metadata": {},
   "source": [
    "## [문제]\n",
    "\n",
    "$N$개의 10진수 정수가 주어진다. 플레이어에게 정수를 그냥 정렬하는 것은 너무 쉽기 때문에, 아래의 기준에 따라 정수를 정렬하기로 한다.\n",
    "\n",
    "1. 10진수 정수를 2진수로 나타냈을 때, 2진수에 포함된 $1$의 개수를 기준으로 내림차순 정렬한다.\n",
    "2. $1$의 개수가 같다면, 원래 10진수를 기준으로 내림차순 정렬한다.\n",
    "    \n",
    "플레이어가 정수를 잘 정렬했을 때, 앞에서 $K$번째에 위치한 수는 어떤 수가 될지 구해보자."
   ]
  },
  {
   "cell_type": "markdown",
   "id": "155aef63",
   "metadata": {},
   "source": [
    "## [입력]\n",
    "\n",
    "첫째 줄에 주어지는 정수의 수 $N$과 플레이어가 찾으려는 정수의 위치 $K$가 공백을 두고 주어진다.\n",
    "\n",
    "둘째 줄에 정수 $a_1, a_2, ... , a_N$이 공백을 두고 주어진다.\n",
    "\n",
    "- $1 \\le N \\le 500,000$\n",
    "- $1 \\le K \\le N$\n",
    "- $1 \\le a_i \\le 2^{20}$"
   ]
  },
  {
   "cell_type": "markdown",
   "id": "d7e46e9e",
   "metadata": {},
   "source": [
    "## [출력]\n",
    "\n",
    "기준에 따라 정렬된 정수 중, 앞에서 $K$번째에 위치한 수를 출력한다."
   ]
  },
  {
   "cell_type": "markdown",
   "id": "36e6a7fe",
   "metadata": {},
   "source": [
    "## [예시]\n",
    "\n",
    "**예시 1**\n",
    "\n",
    "입력\n",
    "```python\n",
    "8 6\n",
    "1 2 3 4 5 6 7 8\n",
    "```\n",
    "\n",
    "출력\n",
    "```python\n",
    "4\n",
    "```\n",
    "\n",
    "**예시 2**\n",
    "\n",
    "입력\n",
    "```python\n",
    "7 1\n",
    "1 2 4 8 16 32 64\n",
    "```\n",
    "\n",
    "출력\n",
    "```python\n",
    "64\n",
    "```"
   ]
  },
  {
   "cell_type": "code",
   "execution_count": 1,
   "id": "c60d6376",
   "metadata": {
    "ExecuteTime": {
     "end_time": "2023-08-18T10:54:58.798164Z",
     "start_time": "2023-08-18T10:54:52.466643Z"
    }
   },
   "outputs": [
    {
     "name": "stdout",
     "output_type": "stream",
     "text": [
      "7 1\n",
      "1 2 4 8 16 32 64\n",
      "64\n"
     ]
    }
   ],
   "source": [
    "# My Solution\n",
    "\n",
    "n, k = map(int, input().split())\n",
    "as_map = map(int, input().split())\n",
    "as_dict = {}\n",
    "\n",
    "for a in as_map:\n",
    "    a_bin = bin(a)[2:]\n",
    "    try:\n",
    "        as_dict[a_bin.count(\"1\")].append(a)\n",
    "    except:\n",
    "        as_dict[a_bin.count(\"1\")] = [a]\n",
    "\n",
    "check_num = 0\n",
    "last_key = 0\n",
    "for key in sorted(as_dict.keys(), reverse=True):\n",
    "    if check_num + len(as_dict[key]) >= k:\n",
    "        print(sorted(as_dict[key], reverse=True)[k - check_num - 1])\n",
    "        break\n",
    "    else:\n",
    "        check_num += len(as_dict[key])"
   ]
  },
  {
   "cell_type": "markdown",
   "id": "75a13709",
   "metadata": {},
   "source": [
    "## [후기]\n",
    "\n",
    "모든 수를 일일이 줄세운 뒤 $K$번째를 찾는 건 너무 비효율적이라고 생각했다. 그래서 이진수에 $1$이 포함된 개수를 키로 하는 딕셔너리를 생성하고, ```len()```을 이용해서 $K$번째에 해당하는 키를 찾아내고, 해당 리스트만을 내림차순으로 정렬하여 최종 답을 구하도록 했다.\n",
    "\n",
    "이 문제의 관건은 **문자열 속성과 정수 속성을 동시에 사용할 방법**을 찾아내는 것이었다. 예를 들어 이진수에 $1$이 몇 개 포함되었는지를 기준으로 정렬하는 것은 문자열에 해당하고, 십진수를 내림차순 정렬하는 것은 정수에 해당한다. 이 두 요소를 적절하게 처리하기 위해 먼저 $1$의 개수를 세기 위한 이진수 문자열을 생성했다. 이어서 $1$의 개수를 키로, 그 개수에 해당하는 수들을 모두 묶은 리스트를 밸류로 하는 딕셔너리에 각 수를 넣었다. 이때 밸류에 들어가는 각 숫자들은 이진수 문자열 형태가 아닌 십진수 정수 형태로 넣음으로써 추후 정렬에 용이하게끔 했다.\n",
    "\n",
    "남은 부분에서는 $K$번째 수가 어떤 키에 해당하는지를 탐색한 뒤, 그 밸류로 찾아 들어가 인덱싱하여 최종적인 값을 출력하도록 했다."
   ]
  }
 ],
 "metadata": {
  "kernelspec": {
   "display_name": "Python 3 (ipykernel)",
   "language": "python",
   "name": "python3"
  },
  "language_info": {
   "codemirror_mode": {
    "name": "ipython",
    "version": 3
   },
   "file_extension": ".py",
   "mimetype": "text/x-python",
   "name": "python",
   "nbconvert_exporter": "python",
   "pygments_lexer": "ipython3",
   "version": "3.9.16"
  }
 },
 "nbformat": 4,
 "nbformat_minor": 5
}
