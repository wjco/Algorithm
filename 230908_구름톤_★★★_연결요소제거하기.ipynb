{
 "cells": [
  {
   "cell_type": "markdown",
   "id": "b5fd7078",
   "metadata": {},
   "source": [
    "# 연결 요소 제거하기 (구름톤 20일차)\n",
    "- 난이도: ★★★\n",
    "- https://level.goorm.io/exam/195702/%EC%97%B0%EA%B2%B0-%EC%9A%94%EC%86%8C-%EC%A0%9C%EA%B1%B0%ED%95%98%EA%B8%B0/quiz/1"
   ]
  },
  {
   "attachments": {},
   "cell_type": "markdown",
   "id": "a1c6431c",
   "metadata": {},
   "source": [
    "## [문제]\n",
    "\n",
    "$N \\times N$ 크기의 2차원 배열이 있다. 2차원 배열의 $i$행 $j$열에 해당하는 칸은 $(i, j)$로 나타낸다. 처음에 이 배열의 각 칸에는 알파벳 대문자 또는 ```.``` 문자가 하나 적혀 있다.\n",
    "\n",
    "상하좌우로 인접한 두 칸에 같은 문자가 적혀있는 경우, 두 칸은 **연결**되어 있다고 한다. 서로 연결된 칸들의 집합을 **연결 요소**라고 하고, 연결 요소의 크기는 그 연결 요소에 포함된 칸들의 개수와 같다.\n",
    "\n",
    "구름이는 아래 작업을 $Q$번 수행하려고 한다.\n",
    "\n",
    "1. $(y_i , x_i)$ 칸을 고른 뒤, 그 칸에 알파벳 대문자 $d_i$를 쓴다. 구름이가 고른 칸은 ```.``` 문자가 적힌 칸임이 보장된다.\n",
    "2. 배열에 존재하는 모든 연결 요소의 크기를 계산한다. 만약 크기가 $K$ 이상인 연결 요소가 존재한다면, 그 연결 요소에 포함된 모든 칸에 적힌 문자를 지운다.\n",
    "\n",
    "모든 작업을 수행한 뒤에, 배열에 적혀있는 문자를 구해보자."
   ]
  },
  {
   "cell_type": "markdown",
   "id": "155aef63",
   "metadata": {},
   "source": [
    "## [입력]\n",
    "\n",
    "첫째 줄에 배열의 크기 $N$, 연결 요소를 지울 기준 $K$, 그리고 구름이가 문자를 적을 횟수 $Q$가 공백을 두고 주어진다.\n",
    "\n",
    "다음 $N$개의 줄에는 $N$개의 문자가 주어진다. 주어지는 문자는 ```.``` 또는 알파벳 대문자 중 하나이며, ```.``` 문자는 처음에 배열의 칸이 비어있음을 의미한다. $r$번째 줄에서 $c$번째로 주어지는 문자는 $(r, c)$ 칸에 대한 정보이다.\n",
    "\n",
    "다음 $Q$개의 줄에는 두 정수 $y_i , x_i$와 알파벳 대문자 $d_i$가 공백을 두고 주어진다. 구름이가 $(y_i , x_i)$ 칸에 $d_i$ 문자를 적었음을 의미한다.\n",
    "\n",
    "- $3 \\le N \\le 50$\n",
    "- $2 \\le K \\le 50$\n",
    "- $1 \\le Q \\le 1,000$\n",
    "- $1 \\le x_i , y_i \\le N$\n",
    "- 처음에는 크기가 $K$ 이상인 연결 요소가 존재하지 않는다.\n",
    "- 구름이가 문자를 적을 칸은 비어있음이 보장된다.\n",
    "- $d_i$는 알파벳 대문자이다."
   ]
  },
  {
   "cell_type": "markdown",
   "id": "9969b982",
   "metadata": {},
   "source": [
    "## [출력]\n",
    "\n",
    "구름이가 $Q$개의 작업을 모두 수행한 뒤, 마지막에 배열에 적혀있는 문자를 $N$개의 줄에 걸쳐 출력한다. 아무 문자도 적혀있지 않은 칸은 ```.``` 문자를 대신 출력한다."
   ]
  },
  {
   "cell_type": "markdown",
   "id": "36e6a7fe",
   "metadata": {},
   "source": [
    "## [예시]\n",
    "\n",
    "**예시 1**\n",
    "\n",
    "입력\n",
    "```\n",
    "5 5 6\n",
    "AB..C\n",
    "BBAZZ\n",
    "....A\n",
    "BBB.B\n",
    "CCBAB\n",
    "3 4 A\n",
    "3 1 A\n",
    "3 3 A\n",
    "3 2 B\n",
    "3 2 A\n",
    "1 2 D\n",
    "```\n",
    "\n",
    "출력\n",
    "```\n",
    "AD..C\n",
    "...ZZ\n",
    ".....\n",
    "....B\n",
    "CC.AB\n",
    "```\n",
    "\n",
    "**예시 2**\n",
    "\n",
    "입력\n",
    "```\n",
    "3 3 1\n",
    "ABA\n",
    "B.B\n",
    "ABA\n",
    "2 2 A\n",
    "```\n",
    "\n",
    "출력\n",
    "```\n",
    "ABA\n",
    "BAB\n",
    "ABA\n",
    "```"
   ]
  },
  {
   "cell_type": "code",
   "execution_count": 1,
   "id": "dd21be81",
   "metadata": {
    "ExecuteTime": {
     "end_time": "2023-09-08T10:28:44.234707Z",
     "start_time": "2023-09-08T10:28:23.168917Z"
    },
    "scrolled": true
   },
   "outputs": [
    {
     "name": "stdout",
     "output_type": "stream",
     "text": [
      "5 5 6\n",
      "AB..C\n",
      "BBAZZ\n",
      "....A\n",
      "BBB.B\n",
      "CCBAB\n",
      "3 4 A\n",
      "3 1 A\n",
      "3 3 A\n",
      "3 2 B\n",
      "3 2 A\n",
      "1 2 D\n",
      "AD..C\n",
      "...ZZ\n",
      ".....\n",
      "....B\n",
      "CC.AB\n"
     ]
    }
   ],
   "source": [
    "# My Solution\n",
    "def delete_upper_k(start, k, lists, visited):\n",
    "    '''\n",
    "    start 지점을 기준으로 연결 요소를 DFS 방식으로 탐색한 뒤,\n",
    "    그 크기가 k 이상이면 모두 지우는 함수.\n",
    "    '''\n",
    "    stack, results = [start], [start] #DFS 돌리기 위한 스택과 결과를 세기 위한 리스트\n",
    "    letter = lists[start[0] - 1][start[1] - 1] #연결 요소 탐색의 기준이 되는 문자\n",
    "    \n",
    "    # DFS 방식으로 기준점에서부터 연결 요소 탐색\n",
    "    while stack:\n",
    "        now_y, now_x = stack.pop()\n",
    "        visited[now_y - 1][now_x - 1] = 1\n",
    "        positions = [[now_y - 1, now_x], [now_y + 1, now_x], [now_y, now_x - 1], [now_y, now_x + 1]]\n",
    "        \n",
    "        for position in positions: #상하좌우 탐색\n",
    "            next_y, next_x = position\n",
    "            if 0 < next_y <= n and 0 < next_x <= n:\n",
    "                if lists[next_y - 1][next_x - 1] == letter and not visited[next_y - 1][next_x - 1]:\n",
    "                    stack.append(position)\n",
    "                    results.append(position)\n",
    "                    visited[next_y - 1][next_x - 1] = 1\n",
    "    \n",
    "    # k개 이상의 연결 요소이면 모두 '.'로 변경\n",
    "    if len(results) >= k:\n",
    "        for result in results:\n",
    "            y, x = result\n",
    "            lists[y - 1][x - 1] = '.'\n",
    "\n",
    "    return lists\n",
    "    \n",
    "n, k, q = map(int, input().split())\n",
    "lists = [list(input()) for _ in range(n)]\n",
    "\n",
    "for _ in range(q):\n",
    "    y, x, d = input().split()\n",
    "    y, x = int(y), int(x)\n",
    "    lists[y - 1][x - 1] = d #d 글자를 쓰고\n",
    "    lists = delete_upper_k([y, x], k, lists, [[0 for _ in range(n)] for __ in range(n)]) #연결요소 탐색\n",
    "\n",
    "for row in lists:\n",
    "    print(\"\".join(row))"
   ]
  },
  {
   "cell_type": "markdown",
   "id": "74f11137",
   "metadata": {},
   "source": [
    "## [후기]\n",
    "\n",
    "알파벳 하나를 쓴 뒤 **DFS 방식**으로 연결 요소를 탐색하여 그 개수를 확인하도록 했다. 이때 알파벳을 쓴 해당 위치, 해당 문자만 확인하면 돼서 편리했다. 그 이유는, 처음에는 크기가 $K$ 이상인 연결 요소가 존재하지 않는다는 규칙 때문. 최초에 연결 요소가 없다는 가정이 있으므로 **새롭게 만들어지는 연결 요소만 체크**하면 됐다."
   ]
  }
 ],
 "metadata": {
  "kernelspec": {
   "display_name": "Python 3 (ipykernel)",
   "language": "python",
   "name": "python3"
  },
  "language_info": {
   "codemirror_mode": {
    "name": "ipython",
    "version": 3
   },
   "file_extension": ".py",
   "mimetype": "text/x-python",
   "name": "python",
   "nbconvert_exporter": "python",
   "pygments_lexer": "ipython3",
   "version": "3.9.16"
  }
 },
 "nbformat": 4,
 "nbformat_minor": 5
}
