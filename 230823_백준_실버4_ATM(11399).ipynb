{
 "cells": [
  {
   "cell_type": "markdown",
   "id": "b5fd7078",
   "metadata": {},
   "source": [
    "# ATM (백준 #11399)\n",
    "- 실버4\n",
    "- https://www.acmicpc.net/problem/11399"
   ]
  },
  {
   "cell_type": "markdown",
   "id": "a1c6431c",
   "metadata": {},
   "source": [
    "## [문제]\n",
    "\n",
    "인하은행에는 ATM이 1대밖에 없다. 지금 이 ATM앞에 $N$명의 사람들이 줄을 서있다. 사람은 $1$번부터 $N$번까지 번호가 매겨져 있으며, $i$번 사람이 돈을 인출하는데 걸리는 시간은 $P_i$분이다.\n",
    "\n",
    "사람들이 줄을 서는 순서에 따라서, 돈을 인출하는데 필요한 시간의 합이 달라지게 된다. 예를 들어, 총 5명이 있고, $P_1 = 3$, $P_2 = 1$, $P_3 = 4$, $P_4 = 3$, $P_5 = 2$ 인 경우를 생각해보자. $[1, 2, 3, 4, 5]$ 순서로 줄을 선다면, $1$번 사람은 $3$분만에 돈을 뽑을 수 있다. $2$번 사람은 $1$번 사람이 돈을 뽑을 때 까지 기다려야 하기 때문에, $3+1 = 4$분이 걸리게 된다. $3$번 사람은 $1$번, $2$번 사람이 돈을 뽑을 때까지 기다려야 하기 때문에, 총 $3+1+4 = 8$분이 필요하게 된다. $4$번 사람은 $3+1+4+3 = 11$분, $5$번 사람은 $3+1+4+3+2 = 13$분이 걸리게 된다. 이 경우에 각 사람이 돈을 인출하는데 필요한 시간의 합은 $3+4+8+11+13 = 39$분이 된다.\n",
    "\n",
    "줄을 [2, 5, 1, 4, 3] 순서로 줄을 서면, $2$번 사람은 $1$분만에, $5$번 사람은 $1+2 = 3$분, $1$번 사람은 $1+2+3 = 6$분, $4$번 사람은 $1+2+3+3 = 9$분, $3$번 사람은 $1+2+3+3+4 = 13$분이 걸리게 된다. 각 사람이 돈을 인출하는데 필요한 시간의 합은 $1+3+6+9+13 = 32$분이다. 이 방법보다 더 필요한 시간의 합을 최소로 만들 수는 없다.\n",
    "\n",
    "줄을 서 있는 사람의 수 $N$과 각 사람이 돈을 인출하는데 걸리는 시간 $P_i$가 주어졌을 때, 각 사람이 돈을 인출하는데 필요한 시간의 합의 최솟값을 구하는 프로그램을 작성하시오."
   ]
  },
  {
   "cell_type": "markdown",
   "id": "155aef63",
   "metadata": {},
   "source": [
    "## [입력]\n",
    "\n",
    "첫째 줄에 사람의 수 $N$($1 \\le N \\le 1,000$)이 주어진다. 둘째 줄에는 각 사람이 돈을 인출하는데 걸리는 시간 $P_i$가 주어진다. ($1 \\le P_i \\le 1,000$)"
   ]
  },
  {
   "cell_type": "markdown",
   "id": "006f00af",
   "metadata": {},
   "source": [
    "## [출력]\n",
    "\n",
    "첫째 줄에 각 사람이 돈을 인출하는데 필요한 시간의 합의 최솟값을 출력한다."
   ]
  },
  {
   "cell_type": "markdown",
   "id": "d7e46e9e",
   "metadata": {},
   "source": [
    "## [예제]\n",
    "\n",
    "**예제 1**\n",
    "\n",
    "입력\n",
    "```python\n",
    "5\n",
    "3 1 4 3 2\n",
    "```\n",
    "\n",
    "출력\n",
    "```python\n",
    "32\n",
    "```"
   ]
  },
  {
   "cell_type": "code",
   "execution_count": 2,
   "id": "c60d6376",
   "metadata": {
    "ExecuteTime": {
     "end_time": "2023-08-23T11:33:48.583053Z",
     "start_time": "2023-08-23T11:33:44.121290Z"
    }
   },
   "outputs": [
    {
     "name": "stdout",
     "output_type": "stream",
     "text": [
      "5\n",
      "3 1 4 3 2\n",
      "32\n"
     ]
    }
   ],
   "source": [
    "# My Solution\n",
    "\n",
    "n = int(input())\n",
    "pis = list(map(int, input().split()))\n",
    "\n",
    "answer = 0\n",
    "temp_answer = 0\n",
    "\n",
    "for pi in sorted(pis):\n",
    "    temp_answer += pi\n",
    "    answer += temp_answer\n",
    "    \n",
    "print(answer)"
   ]
  },
  {
   "cell_type": "markdown",
   "id": "75a13709",
   "metadata": {},
   "source": [
    "## [후기]\n",
    "\n",
    "그리디에 삘 받아서 백준에서 관련 문제들 중 가장 쉬운 걸 풀어봤다.\n",
    "\n",
    "기다리는 시간을 최소화해야 하므로 **시간이 적게 걸리는 사람부터** 빠르게 처리해버리면 끝나는 문제였다. 뭔가 고민할 거리 없이 금방 끝나버려서 김이 팍 샜다."
   ]
  }
 ],
 "metadata": {
  "kernelspec": {
   "display_name": "Python 3 (ipykernel)",
   "language": "python",
   "name": "python3"
  },
  "language_info": {
   "codemirror_mode": {
    "name": "ipython",
    "version": 3
   },
   "file_extension": ".py",
   "mimetype": "text/x-python",
   "name": "python",
   "nbconvert_exporter": "python",
   "pygments_lexer": "ipython3",
   "version": "3.9.16"
  }
 },
 "nbformat": 4,
 "nbformat_minor": 5
}
