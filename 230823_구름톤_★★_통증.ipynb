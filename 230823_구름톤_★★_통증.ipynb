{
 "cells": [
  {
   "cell_type": "markdown",
   "id": "b5fd7078",
   "metadata": {},
   "source": [
    "# 통증 (구름톤 8일차)\n",
    "- 난이도: ★★\n",
    "- https://level.goorm.io/exam/195690/%ED%86%B5%EC%A6%9D/quiz/1"
   ]
  },
  {
   "cell_type": "markdown",
   "id": "a1c6431c",
   "metadata": {},
   "source": [
    "## [문제]\n",
    "\n",
    "구름-그라운드 게임에는 **통증**이라는 시스템이 있다. 통증 수치가 높다면 게임에서 승리하기 어려워지므로, 아이템을 적절히 사용해 통증 수치를 $0$으로 유지하는 것이 중요하다.\n",
    "\n",
    "게임 안에는 통증 수치를 감소시켜 주는 아이템이 $3$종류가 있다. 아이템의 이름은 ```bandage```, ```medicine```, ```painkiller```이고, 각 아이템을 사용 시 $1$, $7$, $14$ 만큼 통증 수치를 감소시켜 준다. 각 아이템은 원하는 만큼 획득할 수 있다.\n",
    "\n",
    "플레이어는 적과의 전투에서 피해를 입어 현재 $N$의 통증 수치를 가지고 있다. 플레이어가 통증 수치를 $0$으로 줄이기 위해 필요한 **아이템의 최소 개수**를 구해보자. 단, 사용했을 때 통증 수치가 $0$보다 작아지는 아이템은 사용할 수 없음에 유의하시오."
   ]
  },
  {
   "cell_type": "markdown",
   "id": "155aef63",
   "metadata": {},
   "source": [
    "## [입력]\n",
    "\n",
    "첫째 줄에 플레이어의 통증 수치를 나타내는 정수 $N$이 주어진다.\n",
    "\n",
    "- $1 \\le N \\le 10^9$"
   ]
  },
  {
   "cell_type": "markdown",
   "id": "d7e46e9e",
   "metadata": {},
   "source": [
    "## [출력]\n",
    "\n",
    "플레이어가 통증 수치를 $0$으로 줄이기 위해 필요한 **아이템의 최소 개수**를 출력한다."
   ]
  },
  {
   "cell_type": "markdown",
   "id": "36e6a7fe",
   "metadata": {},
   "source": [
    "## [예시]\n",
    "\n",
    "**예시 1**\n",
    "\n",
    "입력\n",
    "```python\n",
    "8\n",
    "```\n",
    "\n",
    "출력\n",
    "```python\n",
    "2\n",
    "```\n",
    "\n",
    "**예시 2**\n",
    "\n",
    "입력\n",
    "```python\n",
    "100\n",
    "```\n",
    "\n",
    "출력\n",
    "```python\n",
    "9\n",
    "```"
   ]
  },
  {
   "cell_type": "code",
   "execution_count": 1,
   "id": "c60d6376",
   "metadata": {
    "ExecuteTime": {
     "end_time": "2023-08-23T10:07:37.780524Z",
     "start_time": "2023-08-23T10:07:37.031447Z"
    }
   },
   "outputs": [
    {
     "name": "stdout",
     "output_type": "stream",
     "text": [
      "100\n",
      "9\n"
     ]
    }
   ],
   "source": [
    "# My Solution (1)\n",
    "\n",
    "n = int(input())\n",
    "painkiller = n // 14\n",
    "medicine = (n % 14) // 7\n",
    "bandage = n % 7\n",
    "print(painkiller + medicine + bandage)"
   ]
  },
  {
   "cell_type": "markdown",
   "id": "f6f9d626",
   "metadata": {},
   "source": [
    "## [후기]\n",
    "\n",
    "갑자기 난이도가 확 쉬워졌다...? $N$을 14로 나눈 몫, 나머지를 7로 나눈 몫, 그리고 나머지를 각각 계산하여 더하는 방식으로 간단하게 구현했다. 사실 가독성을 위해 5줄로 썼다만 아래와 같이 간단하게 2줄로도 만들 수 있을 것이다."
   ]
  },
  {
   "cell_type": "code",
   "execution_count": 4,
   "id": "257f1d47",
   "metadata": {
    "ExecuteTime": {
     "end_time": "2023-08-23T10:14:18.732742Z",
     "start_time": "2023-08-23T10:14:16.257390Z"
    }
   },
   "outputs": [
    {
     "name": "stdout",
     "output_type": "stream",
     "text": [
      "100\n",
      "9\n"
     ]
    }
   ],
   "source": [
    "# My Solution (2)\n",
    "\n",
    "n = int(input())\n",
    "print((n // 14) + ((n % 14) // 7) + (n % 7))"
   ]
  },
  {
   "cell_type": "markdown",
   "id": "75a13709",
   "metadata": {},
   "source": [
    "그리디 알고리즘의 기초가 되는 문제라고 한다. 그리디(greedy)라는 단어는 탐욕적이라는 뜻인데 알고리즘 문제 풀면서 몇 번 들어본 적 있는 단어다. 대충 머리 써서 패턴 찾아내는 문제적남자(?)식 문제들이 이 카테고리였던 것으로 기억한다. 문득 그리디가 정확히 뭔지 궁금해져서 검색을 해봤다. 그리디 알고리즘은 그 상황에서의 최적해를 찾아내는 알고리즘이라고 한다. 그러니까 다음에 있을 일은 생각 안 하고 지금만 생각해서 최선의 답.\n",
    "\n",
    "이 문제를 접하자마자 '큰 거부터 나눠보면 되는 거 아냐?'라고 생각했는데 **그게 배수라서 가능함**을 깨닫게 됐다. 만약에 1, 7, 14가 아닌 무작위 숫자들로 구성된 문제라면 큰 거부터 나눠보는 게 무조건 답이 되지는 않는다는 의미다."
   ]
  }
 ],
 "metadata": {
  "kernelspec": {
   "display_name": "Python 3 (ipykernel)",
   "language": "python",
   "name": "python3"
  },
  "language_info": {
   "codemirror_mode": {
    "name": "ipython",
    "version": 3
   },
   "file_extension": ".py",
   "mimetype": "text/x-python",
   "name": "python",
   "nbconvert_exporter": "python",
   "pygments_lexer": "ipython3",
   "version": "3.9.16"
  }
 },
 "nbformat": 4,
 "nbformat_minor": 5
}
